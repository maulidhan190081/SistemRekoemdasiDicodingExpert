{
  "nbformat": 4,
  "nbformat_minor": 0,
  "metadata": {
    "colab": {
      "provenance": [],
      "collapsed_sections": [
        "XctzCfzbYCBK"
      ],
      "gpuType": "V28",
      "toc_visible": true
    },
    "kernelspec": {
      "name": "python3",
      "display_name": "Python 3"
    },
    "language_info": {
      "name": "python"
    },
    "accelerator": "TPU"
  },
  "cells": [
    {
      "cell_type": "markdown",
      "metadata": {
        "id": "H9wADwK78DCz"
      },
      "source": [
        "# Proyek Sistem Rekomendasi: [Input Nama Dataset]\n",
        "- **Nama:** [Maulidhan Ady Nugraha]\n",
        "- **Email:** [maulidhan6@gmail.com]\n",
        "- **Username Dicoding:** [maulidhanadynugraha]"
      ]
    },
    {
      "cell_type": "markdown",
      "metadata": {
        "id": "H-z4QGlO8DC1"
      },
      "source": [
        "## Import Semua Packages/Library"
      ]
    },
    {
      "cell_type": "markdown",
      "source": [
        "mengimport semua library yang dibutuhkan"
      ],
      "metadata": {
        "id": "h0qpCJnHdGvj"
      }
    },
    {
      "cell_type": "code",
      "execution_count": 2,
      "metadata": {
        "id": "FVYwaObI8DC1"
      },
      "outputs": [],
      "source": [
        "import os\n",
        "import pandas as pd\n",
        "import kagglehub\n",
        "import numpy as np\n",
        "import zipfile\n",
        "import json\n",
        "\n",
        "from sklearn.decomposition import TruncatedSVD\n",
        "from sklearn.metrics.pairwise import cosine_similarity"
      ]
    },
    {
      "cell_type": "markdown",
      "source": [
        "## Data Preparation"
      ],
      "metadata": {
        "id": "TK4DvqfbYrN8"
      }
    },
    {
      "cell_type": "markdown",
      "metadata": {
        "id": "HHekw29KX4XQ"
      },
      "source": [
        "### Data Loading"
      ]
    },
    {
      "cell_type": "markdown",
      "source": [
        "load data dari kaglle link sebagai berikut [data_netflix](https://www.kaggle.com/datasets/rishitjavia/netflix-movie-rating-dataset)"
      ],
      "metadata": {
        "id": "I_3d0iEPdOwg"
      }
    },
    {
      "cell_type": "code",
      "execution_count": 3,
      "metadata": {
        "id": "wIcv1F9fX4XQ",
        "colab": {
          "base_uri": "https://localhost:8080/"
        },
        "outputId": "47868730-e889-4061-c25b-7487e9271f45"
      },
      "outputs": [
        {
          "output_type": "stream",
          "name": "stdout",
          "text": [
            "Path to dataset files: /root/.cache/kagglehub/datasets/rishitjavia/netflix-movie-rating-dataset/versions/1\n"
          ]
        }
      ],
      "source": [
        "# Download latest version\n",
        "path = kagglehub.dataset_download(\"rishitjavia/netflix-movie-rating-dataset\")\n",
        "\n",
        "print(\"Path to dataset files:\", path)"
      ]
    },
    {
      "cell_type": "markdown",
      "source": [
        "membaca data yang telah diload"
      ],
      "metadata": {
        "id": "drsLAURTdv8u"
      }
    },
    {
      "cell_type": "code",
      "source": [
        "# Get the list of files in the downloaded directory\n",
        "files = os.listdir(path)\n",
        "\n",
        "# Print the list of files\n",
        "path_list_film=files[0]\n",
        "path_list_rating = files[1]\n",
        "\n",
        "# Construct the full path to the CSV file\n",
        "file_path_list_rating = os.path.join(path, path_list_rating)\n",
        "file_path_list_film = os.path.join(path, path_list_film)"
      ],
      "metadata": {
        "id": "hJAn33oJHgAW"
      },
      "execution_count": 4,
      "outputs": []
    },
    {
      "cell_type": "markdown",
      "source": [
        "membuat dataframe dari data rating film netflix"
      ],
      "metadata": {
        "id": "8sMlF0eZd2Nv"
      }
    },
    {
      "cell_type": "code",
      "source": [
        "# Read the CSV file\n",
        "df = pd.read_csv(file_path_list_rating)"
      ],
      "metadata": {
        "id": "BU0PpLTYJWG8"
      },
      "execution_count": 5,
      "outputs": []
    },
    {
      "cell_type": "markdown",
      "source": [
        "#### Cek Informasi Data"
      ],
      "metadata": {
        "id": "0JlFuANcVgzY"
      }
    },
    {
      "cell_type": "markdown",
      "source": [
        "menampilkan data"
      ],
      "metadata": {
        "id": "nsKpQujDd7sU"
      }
    },
    {
      "cell_type": "code",
      "source": [
        "df"
      ],
      "metadata": {
        "colab": {
          "base_uri": "https://localhost:8080/",
          "height": 423
        },
        "id": "3tkTpS55OGE-",
        "outputId": "03ecfc26-a9c4-41fe-cca1-32cfb4c91518"
      },
      "execution_count": 6,
      "outputs": [
        {
          "output_type": "execute_result",
          "data": {
            "text/plain": [
              "          User_ID  Rating  Movie_ID\n",
              "0          712664       5         3\n",
              "1         1331154       4         3\n",
              "2         2632461       3         3\n",
              "3           44937       5         3\n",
              "4          656399       4         3\n",
              "...           ...     ...       ...\n",
              "17337453   520675       3      4496\n",
              "17337454  1055714       5      4496\n",
              "17337455  2643029       4      4496\n",
              "17337456  1559566       3      4496\n",
              "17337457   293198       3      4496\n",
              "\n",
              "[17337458 rows x 3 columns]"
            ],
            "text/html": [
              "\n",
              "  <div id=\"df-f46853ee-e28c-4fc9-ab51-7ede6c2004a4\" class=\"colab-df-container\">\n",
              "    <div>\n",
              "<style scoped>\n",
              "    .dataframe tbody tr th:only-of-type {\n",
              "        vertical-align: middle;\n",
              "    }\n",
              "\n",
              "    .dataframe tbody tr th {\n",
              "        vertical-align: top;\n",
              "    }\n",
              "\n",
              "    .dataframe thead th {\n",
              "        text-align: right;\n",
              "    }\n",
              "</style>\n",
              "<table border=\"1\" class=\"dataframe\">\n",
              "  <thead>\n",
              "    <tr style=\"text-align: right;\">\n",
              "      <th></th>\n",
              "      <th>User_ID</th>\n",
              "      <th>Rating</th>\n",
              "      <th>Movie_ID</th>\n",
              "    </tr>\n",
              "  </thead>\n",
              "  <tbody>\n",
              "    <tr>\n",
              "      <th>0</th>\n",
              "      <td>712664</td>\n",
              "      <td>5</td>\n",
              "      <td>3</td>\n",
              "    </tr>\n",
              "    <tr>\n",
              "      <th>1</th>\n",
              "      <td>1331154</td>\n",
              "      <td>4</td>\n",
              "      <td>3</td>\n",
              "    </tr>\n",
              "    <tr>\n",
              "      <th>2</th>\n",
              "      <td>2632461</td>\n",
              "      <td>3</td>\n",
              "      <td>3</td>\n",
              "    </tr>\n",
              "    <tr>\n",
              "      <th>3</th>\n",
              "      <td>44937</td>\n",
              "      <td>5</td>\n",
              "      <td>3</td>\n",
              "    </tr>\n",
              "    <tr>\n",
              "      <th>4</th>\n",
              "      <td>656399</td>\n",
              "      <td>4</td>\n",
              "      <td>3</td>\n",
              "    </tr>\n",
              "    <tr>\n",
              "      <th>...</th>\n",
              "      <td>...</td>\n",
              "      <td>...</td>\n",
              "      <td>...</td>\n",
              "    </tr>\n",
              "    <tr>\n",
              "      <th>17337453</th>\n",
              "      <td>520675</td>\n",
              "      <td>3</td>\n",
              "      <td>4496</td>\n",
              "    </tr>\n",
              "    <tr>\n",
              "      <th>17337454</th>\n",
              "      <td>1055714</td>\n",
              "      <td>5</td>\n",
              "      <td>4496</td>\n",
              "    </tr>\n",
              "    <tr>\n",
              "      <th>17337455</th>\n",
              "      <td>2643029</td>\n",
              "      <td>4</td>\n",
              "      <td>4496</td>\n",
              "    </tr>\n",
              "    <tr>\n",
              "      <th>17337456</th>\n",
              "      <td>1559566</td>\n",
              "      <td>3</td>\n",
              "      <td>4496</td>\n",
              "    </tr>\n",
              "    <tr>\n",
              "      <th>17337457</th>\n",
              "      <td>293198</td>\n",
              "      <td>3</td>\n",
              "      <td>4496</td>\n",
              "    </tr>\n",
              "  </tbody>\n",
              "</table>\n",
              "<p>17337458 rows × 3 columns</p>\n",
              "</div>\n",
              "    <div class=\"colab-df-buttons\">\n",
              "\n",
              "  <div class=\"colab-df-container\">\n",
              "    <button class=\"colab-df-convert\" onclick=\"convertToInteractive('df-f46853ee-e28c-4fc9-ab51-7ede6c2004a4')\"\n",
              "            title=\"Convert this dataframe to an interactive table.\"\n",
              "            style=\"display:none;\">\n",
              "\n",
              "  <svg xmlns=\"http://www.w3.org/2000/svg\" height=\"24px\" viewBox=\"0 -960 960 960\">\n",
              "    <path d=\"M120-120v-720h720v720H120Zm60-500h600v-160H180v160Zm220 220h160v-160H400v160Zm0 220h160v-160H400v160ZM180-400h160v-160H180v160Zm440 0h160v-160H620v160ZM180-180h160v-160H180v160Zm440 0h160v-160H620v160Z\"/>\n",
              "  </svg>\n",
              "    </button>\n",
              "\n",
              "  <style>\n",
              "    .colab-df-container {\n",
              "      display:flex;\n",
              "      gap: 12px;\n",
              "    }\n",
              "\n",
              "    .colab-df-convert {\n",
              "      background-color: #E8F0FE;\n",
              "      border: none;\n",
              "      border-radius: 50%;\n",
              "      cursor: pointer;\n",
              "      display: none;\n",
              "      fill: #1967D2;\n",
              "      height: 32px;\n",
              "      padding: 0 0 0 0;\n",
              "      width: 32px;\n",
              "    }\n",
              "\n",
              "    .colab-df-convert:hover {\n",
              "      background-color: #E2EBFA;\n",
              "      box-shadow: 0px 1px 2px rgba(60, 64, 67, 0.3), 0px 1px 3px 1px rgba(60, 64, 67, 0.15);\n",
              "      fill: #174EA6;\n",
              "    }\n",
              "\n",
              "    .colab-df-buttons div {\n",
              "      margin-bottom: 4px;\n",
              "    }\n",
              "\n",
              "    [theme=dark] .colab-df-convert {\n",
              "      background-color: #3B4455;\n",
              "      fill: #D2E3FC;\n",
              "    }\n",
              "\n",
              "    [theme=dark] .colab-df-convert:hover {\n",
              "      background-color: #434B5C;\n",
              "      box-shadow: 0px 1px 3px 1px rgba(0, 0, 0, 0.15);\n",
              "      filter: drop-shadow(0px 1px 2px rgba(0, 0, 0, 0.3));\n",
              "      fill: #FFFFFF;\n",
              "    }\n",
              "  </style>\n",
              "\n",
              "    <script>\n",
              "      const buttonEl =\n",
              "        document.querySelector('#df-f46853ee-e28c-4fc9-ab51-7ede6c2004a4 button.colab-df-convert');\n",
              "      buttonEl.style.display =\n",
              "        google.colab.kernel.accessAllowed ? 'block' : 'none';\n",
              "\n",
              "      async function convertToInteractive(key) {\n",
              "        const element = document.querySelector('#df-f46853ee-e28c-4fc9-ab51-7ede6c2004a4');\n",
              "        const dataTable =\n",
              "          await google.colab.kernel.invokeFunction('convertToInteractive',\n",
              "                                                    [key], {});\n",
              "        if (!dataTable) return;\n",
              "\n",
              "        const docLinkHtml = 'Like what you see? Visit the ' +\n",
              "          '<a target=\"_blank\" href=https://colab.research.google.com/notebooks/data_table.ipynb>data table notebook</a>'\n",
              "          + ' to learn more about interactive tables.';\n",
              "        element.innerHTML = '';\n",
              "        dataTable['output_type'] = 'display_data';\n",
              "        await google.colab.output.renderOutput(dataTable, element);\n",
              "        const docLink = document.createElement('div');\n",
              "        docLink.innerHTML = docLinkHtml;\n",
              "        element.appendChild(docLink);\n",
              "      }\n",
              "    </script>\n",
              "  </div>\n",
              "\n",
              "\n",
              "<div id=\"df-920b3969-0c84-4e62-92c9-59d9a1e19471\">\n",
              "  <button class=\"colab-df-quickchart\" onclick=\"quickchart('df-920b3969-0c84-4e62-92c9-59d9a1e19471')\"\n",
              "            title=\"Suggest charts\"\n",
              "            style=\"display:none;\">\n",
              "\n",
              "<svg xmlns=\"http://www.w3.org/2000/svg\" height=\"24px\"viewBox=\"0 0 24 24\"\n",
              "     width=\"24px\">\n",
              "    <g>\n",
              "        <path d=\"M19 3H5c-1.1 0-2 .9-2 2v14c0 1.1.9 2 2 2h14c1.1 0 2-.9 2-2V5c0-1.1-.9-2-2-2zM9 17H7v-7h2v7zm4 0h-2V7h2v10zm4 0h-2v-4h2v4z\"/>\n",
              "    </g>\n",
              "</svg>\n",
              "  </button>\n",
              "\n",
              "<style>\n",
              "  .colab-df-quickchart {\n",
              "      --bg-color: #E8F0FE;\n",
              "      --fill-color: #1967D2;\n",
              "      --hover-bg-color: #E2EBFA;\n",
              "      --hover-fill-color: #174EA6;\n",
              "      --disabled-fill-color: #AAA;\n",
              "      --disabled-bg-color: #DDD;\n",
              "  }\n",
              "\n",
              "  [theme=dark] .colab-df-quickchart {\n",
              "      --bg-color: #3B4455;\n",
              "      --fill-color: #D2E3FC;\n",
              "      --hover-bg-color: #434B5C;\n",
              "      --hover-fill-color: #FFFFFF;\n",
              "      --disabled-bg-color: #3B4455;\n",
              "      --disabled-fill-color: #666;\n",
              "  }\n",
              "\n",
              "  .colab-df-quickchart {\n",
              "    background-color: var(--bg-color);\n",
              "    border: none;\n",
              "    border-radius: 50%;\n",
              "    cursor: pointer;\n",
              "    display: none;\n",
              "    fill: var(--fill-color);\n",
              "    height: 32px;\n",
              "    padding: 0;\n",
              "    width: 32px;\n",
              "  }\n",
              "\n",
              "  .colab-df-quickchart:hover {\n",
              "    background-color: var(--hover-bg-color);\n",
              "    box-shadow: 0 1px 2px rgba(60, 64, 67, 0.3), 0 1px 3px 1px rgba(60, 64, 67, 0.15);\n",
              "    fill: var(--button-hover-fill-color);\n",
              "  }\n",
              "\n",
              "  .colab-df-quickchart-complete:disabled,\n",
              "  .colab-df-quickchart-complete:disabled:hover {\n",
              "    background-color: var(--disabled-bg-color);\n",
              "    fill: var(--disabled-fill-color);\n",
              "    box-shadow: none;\n",
              "  }\n",
              "\n",
              "  .colab-df-spinner {\n",
              "    border: 2px solid var(--fill-color);\n",
              "    border-color: transparent;\n",
              "    border-bottom-color: var(--fill-color);\n",
              "    animation:\n",
              "      spin 1s steps(1) infinite;\n",
              "  }\n",
              "\n",
              "  @keyframes spin {\n",
              "    0% {\n",
              "      border-color: transparent;\n",
              "      border-bottom-color: var(--fill-color);\n",
              "      border-left-color: var(--fill-color);\n",
              "    }\n",
              "    20% {\n",
              "      border-color: transparent;\n",
              "      border-left-color: var(--fill-color);\n",
              "      border-top-color: var(--fill-color);\n",
              "    }\n",
              "    30% {\n",
              "      border-color: transparent;\n",
              "      border-left-color: var(--fill-color);\n",
              "      border-top-color: var(--fill-color);\n",
              "      border-right-color: var(--fill-color);\n",
              "    }\n",
              "    40% {\n",
              "      border-color: transparent;\n",
              "      border-right-color: var(--fill-color);\n",
              "      border-top-color: var(--fill-color);\n",
              "    }\n",
              "    60% {\n",
              "      border-color: transparent;\n",
              "      border-right-color: var(--fill-color);\n",
              "    }\n",
              "    80% {\n",
              "      border-color: transparent;\n",
              "      border-right-color: var(--fill-color);\n",
              "      border-bottom-color: var(--fill-color);\n",
              "    }\n",
              "    90% {\n",
              "      border-color: transparent;\n",
              "      border-bottom-color: var(--fill-color);\n",
              "    }\n",
              "  }\n",
              "</style>\n",
              "\n",
              "  <script>\n",
              "    async function quickchart(key) {\n",
              "      const quickchartButtonEl =\n",
              "        document.querySelector('#' + key + ' button');\n",
              "      quickchartButtonEl.disabled = true;  // To prevent multiple clicks.\n",
              "      quickchartButtonEl.classList.add('colab-df-spinner');\n",
              "      try {\n",
              "        const charts = await google.colab.kernel.invokeFunction(\n",
              "            'suggestCharts', [key], {});\n",
              "      } catch (error) {\n",
              "        console.error('Error during call to suggestCharts:', error);\n",
              "      }\n",
              "      quickchartButtonEl.classList.remove('colab-df-spinner');\n",
              "      quickchartButtonEl.classList.add('colab-df-quickchart-complete');\n",
              "    }\n",
              "    (() => {\n",
              "      let quickchartButtonEl =\n",
              "        document.querySelector('#df-920b3969-0c84-4e62-92c9-59d9a1e19471 button');\n",
              "      quickchartButtonEl.style.display =\n",
              "        google.colab.kernel.accessAllowed ? 'block' : 'none';\n",
              "    })();\n",
              "  </script>\n",
              "</div>\n",
              "\n",
              "  <div id=\"id_0008259e-25d2-4601-a8e4-c2965e4fb288\">\n",
              "    <style>\n",
              "      .colab-df-generate {\n",
              "        background-color: #E8F0FE;\n",
              "        border: none;\n",
              "        border-radius: 50%;\n",
              "        cursor: pointer;\n",
              "        display: none;\n",
              "        fill: #1967D2;\n",
              "        height: 32px;\n",
              "        padding: 0 0 0 0;\n",
              "        width: 32px;\n",
              "      }\n",
              "\n",
              "      .colab-df-generate:hover {\n",
              "        background-color: #E2EBFA;\n",
              "        box-shadow: 0px 1px 2px rgba(60, 64, 67, 0.3), 0px 1px 3px 1px rgba(60, 64, 67, 0.15);\n",
              "        fill: #174EA6;\n",
              "      }\n",
              "\n",
              "      [theme=dark] .colab-df-generate {\n",
              "        background-color: #3B4455;\n",
              "        fill: #D2E3FC;\n",
              "      }\n",
              "\n",
              "      [theme=dark] .colab-df-generate:hover {\n",
              "        background-color: #434B5C;\n",
              "        box-shadow: 0px 1px 3px 1px rgba(0, 0, 0, 0.15);\n",
              "        filter: drop-shadow(0px 1px 2px rgba(0, 0, 0, 0.3));\n",
              "        fill: #FFFFFF;\n",
              "      }\n",
              "    </style>\n",
              "    <button class=\"colab-df-generate\" onclick=\"generateWithVariable('df')\"\n",
              "            title=\"Generate code using this dataframe.\"\n",
              "            style=\"display:none;\">\n",
              "\n",
              "  <svg xmlns=\"http://www.w3.org/2000/svg\" height=\"24px\"viewBox=\"0 0 24 24\"\n",
              "       width=\"24px\">\n",
              "    <path d=\"M7,19H8.4L18.45,9,17,7.55,7,17.6ZM5,21V16.75L18.45,3.32a2,2,0,0,1,2.83,0l1.4,1.43a1.91,1.91,0,0,1,.58,1.4,1.91,1.91,0,0,1-.58,1.4L9.25,21ZM18.45,9,17,7.55Zm-12,3A5.31,5.31,0,0,0,4.9,8.1,5.31,5.31,0,0,0,1,6.5,5.31,5.31,0,0,0,4.9,4.9,5.31,5.31,0,0,0,6.5,1,5.31,5.31,0,0,0,8.1,4.9,5.31,5.31,0,0,0,12,6.5,5.46,5.46,0,0,0,6.5,12Z\"/>\n",
              "  </svg>\n",
              "    </button>\n",
              "    <script>\n",
              "      (() => {\n",
              "      const buttonEl =\n",
              "        document.querySelector('#id_0008259e-25d2-4601-a8e4-c2965e4fb288 button.colab-df-generate');\n",
              "      buttonEl.style.display =\n",
              "        google.colab.kernel.accessAllowed ? 'block' : 'none';\n",
              "\n",
              "      buttonEl.onclick = () => {\n",
              "        google.colab.notebook.generateWithVariable('df');\n",
              "      }\n",
              "      })();\n",
              "    </script>\n",
              "  </div>\n",
              "\n",
              "    </div>\n",
              "  </div>\n"
            ],
            "application/vnd.google.colaboratory.intrinsic+json": {
              "type": "dataframe",
              "variable_name": "df"
            }
          },
          "metadata": {},
          "execution_count": 6
        }
      ]
    },
    {
      "cell_type": "markdown",
      "source": [
        "mengecek apakah ada data yang kosong"
      ],
      "metadata": {
        "id": "VPcpGq68d_X4"
      }
    },
    {
      "cell_type": "code",
      "source": [
        "df.isnull().sum()"
      ],
      "metadata": {
        "colab": {
          "base_uri": "https://localhost:8080/",
          "height": 178
        },
        "id": "gTforagrRgX4",
        "outputId": "2a728293-f3b3-4eb9-e7e6-dd3d2360a5ff"
      },
      "execution_count": 7,
      "outputs": [
        {
          "output_type": "execute_result",
          "data": {
            "text/plain": [
              "User_ID     0\n",
              "Rating      0\n",
              "Movie_ID    0\n",
              "dtype: int64"
            ],
            "text/html": [
              "<div>\n",
              "<style scoped>\n",
              "    .dataframe tbody tr th:only-of-type {\n",
              "        vertical-align: middle;\n",
              "    }\n",
              "\n",
              "    .dataframe tbody tr th {\n",
              "        vertical-align: top;\n",
              "    }\n",
              "\n",
              "    .dataframe thead th {\n",
              "        text-align: right;\n",
              "    }\n",
              "</style>\n",
              "<table border=\"1\" class=\"dataframe\">\n",
              "  <thead>\n",
              "    <tr style=\"text-align: right;\">\n",
              "      <th></th>\n",
              "      <th>0</th>\n",
              "    </tr>\n",
              "  </thead>\n",
              "  <tbody>\n",
              "    <tr>\n",
              "      <th>User_ID</th>\n",
              "      <td>0</td>\n",
              "    </tr>\n",
              "    <tr>\n",
              "      <th>Rating</th>\n",
              "      <td>0</td>\n",
              "    </tr>\n",
              "    <tr>\n",
              "      <th>Movie_ID</th>\n",
              "      <td>0</td>\n",
              "    </tr>\n",
              "  </tbody>\n",
              "</table>\n",
              "</div><br><label><b>dtype:</b> int64</label>"
            ]
          },
          "metadata": {},
          "execution_count": 7
        }
      ]
    },
    {
      "cell_type": "markdown",
      "source": [
        "melihat berapa user yang ada"
      ],
      "metadata": {
        "id": "efdV-ynMeDi1"
      }
    },
    {
      "cell_type": "code",
      "source": [
        "pd.Series(df[\"User_ID\"].unique()).sort_values() #Convert to pandas Series then sort"
      ],
      "metadata": {
        "colab": {
          "base_uri": "https://localhost:8080/",
          "height": 458
        },
        "id": "t8kjDeBfR1bP",
        "outputId": "fcef00e1-b6cd-4750-a683-c140d31e4cd8"
      },
      "execution_count": 8,
      "outputs": [
        {
          "output_type": "execute_result",
          "data": {
            "text/plain": [
              "89528           6\n",
              "6079            7\n",
              "69871          79\n",
              "112471         97\n",
              "43258         134\n",
              "           ...   \n",
              "138638    2649370\n",
              "33264     2649378\n",
              "74245     2649388\n",
              "14543     2649426\n",
              "65430     2649429\n",
              "Length: 143458, dtype: int64"
            ],
            "text/html": [
              "<div>\n",
              "<style scoped>\n",
              "    .dataframe tbody tr th:only-of-type {\n",
              "        vertical-align: middle;\n",
              "    }\n",
              "\n",
              "    .dataframe tbody tr th {\n",
              "        vertical-align: top;\n",
              "    }\n",
              "\n",
              "    .dataframe thead th {\n",
              "        text-align: right;\n",
              "    }\n",
              "</style>\n",
              "<table border=\"1\" class=\"dataframe\">\n",
              "  <thead>\n",
              "    <tr style=\"text-align: right;\">\n",
              "      <th></th>\n",
              "      <th>0</th>\n",
              "    </tr>\n",
              "  </thead>\n",
              "  <tbody>\n",
              "    <tr>\n",
              "      <th>89528</th>\n",
              "      <td>6</td>\n",
              "    </tr>\n",
              "    <tr>\n",
              "      <th>6079</th>\n",
              "      <td>7</td>\n",
              "    </tr>\n",
              "    <tr>\n",
              "      <th>69871</th>\n",
              "      <td>79</td>\n",
              "    </tr>\n",
              "    <tr>\n",
              "      <th>112471</th>\n",
              "      <td>97</td>\n",
              "    </tr>\n",
              "    <tr>\n",
              "      <th>43258</th>\n",
              "      <td>134</td>\n",
              "    </tr>\n",
              "    <tr>\n",
              "      <th>...</th>\n",
              "      <td>...</td>\n",
              "    </tr>\n",
              "    <tr>\n",
              "      <th>138638</th>\n",
              "      <td>2649370</td>\n",
              "    </tr>\n",
              "    <tr>\n",
              "      <th>33264</th>\n",
              "      <td>2649378</td>\n",
              "    </tr>\n",
              "    <tr>\n",
              "      <th>74245</th>\n",
              "      <td>2649388</td>\n",
              "    </tr>\n",
              "    <tr>\n",
              "      <th>14543</th>\n",
              "      <td>2649426</td>\n",
              "    </tr>\n",
              "    <tr>\n",
              "      <th>65430</th>\n",
              "      <td>2649429</td>\n",
              "    </tr>\n",
              "  </tbody>\n",
              "</table>\n",
              "<p>143458 rows × 1 columns</p>\n",
              "</div><br><label><b>dtype:</b> int64</label>"
            ]
          },
          "metadata": {},
          "execution_count": 8
        }
      ]
    },
    {
      "cell_type": "markdown",
      "source": [
        "#### Seleksi User"
      ],
      "metadata": {
        "id": "J2IqFSwpVafR"
      }
    },
    {
      "cell_type": "markdown",
      "source": [
        "meneyeleksi user yang sudah merating lebih dari 400 film"
      ],
      "metadata": {
        "id": "gGT7M7xLeLe5"
      }
    },
    {
      "cell_type": "code",
      "source": [
        "user_rating_counts = df.groupby('User_ID')['Rating'].count()\n",
        "users = user_rating_counts[user_rating_counts >= 400]\n",
        "users"
      ],
      "metadata": {
        "colab": {
          "base_uri": "https://localhost:8080/",
          "height": 489
        },
        "id": "07zw0BhkM9zT",
        "outputId": "9721ec63-7fad-4da5-bdf5-07ca4ea31447"
      },
      "execution_count": 9,
      "outputs": [
        {
          "output_type": "execute_result",
          "data": {
            "text/plain": [
              "User_ID\n",
              "1333       611\n",
              "3321       688\n",
              "3998       487\n",
              "4905       410\n",
              "10268      548\n",
              "          ... \n",
              "2640760    468\n",
              "2645579    583\n",
              "2646347    416\n",
              "2646574    420\n",
              "2647197    443\n",
              "Name: Rating, Length: 1730, dtype: int64"
            ],
            "text/html": [
              "<div>\n",
              "<style scoped>\n",
              "    .dataframe tbody tr th:only-of-type {\n",
              "        vertical-align: middle;\n",
              "    }\n",
              "\n",
              "    .dataframe tbody tr th {\n",
              "        vertical-align: top;\n",
              "    }\n",
              "\n",
              "    .dataframe thead th {\n",
              "        text-align: right;\n",
              "    }\n",
              "</style>\n",
              "<table border=\"1\" class=\"dataframe\">\n",
              "  <thead>\n",
              "    <tr style=\"text-align: right;\">\n",
              "      <th></th>\n",
              "      <th>Rating</th>\n",
              "    </tr>\n",
              "    <tr>\n",
              "      <th>User_ID</th>\n",
              "      <th></th>\n",
              "    </tr>\n",
              "  </thead>\n",
              "  <tbody>\n",
              "    <tr>\n",
              "      <th>1333</th>\n",
              "      <td>611</td>\n",
              "    </tr>\n",
              "    <tr>\n",
              "      <th>3321</th>\n",
              "      <td>688</td>\n",
              "    </tr>\n",
              "    <tr>\n",
              "      <th>3998</th>\n",
              "      <td>487</td>\n",
              "    </tr>\n",
              "    <tr>\n",
              "      <th>4905</th>\n",
              "      <td>410</td>\n",
              "    </tr>\n",
              "    <tr>\n",
              "      <th>10268</th>\n",
              "      <td>548</td>\n",
              "    </tr>\n",
              "    <tr>\n",
              "      <th>...</th>\n",
              "      <td>...</td>\n",
              "    </tr>\n",
              "    <tr>\n",
              "      <th>2640760</th>\n",
              "      <td>468</td>\n",
              "    </tr>\n",
              "    <tr>\n",
              "      <th>2645579</th>\n",
              "      <td>583</td>\n",
              "    </tr>\n",
              "    <tr>\n",
              "      <th>2646347</th>\n",
              "      <td>416</td>\n",
              "    </tr>\n",
              "    <tr>\n",
              "      <th>2646574</th>\n",
              "      <td>420</td>\n",
              "    </tr>\n",
              "    <tr>\n",
              "      <th>2647197</th>\n",
              "      <td>443</td>\n",
              "    </tr>\n",
              "  </tbody>\n",
              "</table>\n",
              "<p>1730 rows × 1 columns</p>\n",
              "</div><br><label><b>dtype:</b> int64</label>"
            ]
          },
          "metadata": {},
          "execution_count": 9
        }
      ]
    },
    {
      "cell_type": "markdown",
      "source": [
        "membuat data frame dari user yang sudah diseleksi"
      ],
      "metadata": {
        "id": "b6bWed8bePsk"
      }
    },
    {
      "cell_type": "code",
      "source": [
        "selected_df = df[df['User_ID'].isin(users.index)]\n",
        "selected_df"
      ],
      "metadata": {
        "colab": {
          "base_uri": "https://localhost:8080/",
          "height": 423
        },
        "collapsed": true,
        "id": "PKbgpE3IOSKv",
        "outputId": "23be0644-9692-49c7-9d20-174ae57af334"
      },
      "execution_count": 10,
      "outputs": [
        {
          "output_type": "execute_result",
          "data": {
            "text/plain": [
              "          User_ID  Rating  Movie_ID\n",
              "28         603277       3         3\n",
              "45        2312349       4         3\n",
              "51        1977959       4         3\n",
              "66           1333       4         3\n",
              "92        2554745       4         3\n",
              "...           ...     ...       ...\n",
              "17337391  2634967       1      4496\n",
              "17337398  1300759       4      4496\n",
              "17337433  2513621       4      4496\n",
              "17337434   324510       3      4496\n",
              "17337452   823628       5      4496\n",
              "\n",
              "[858970 rows x 3 columns]"
            ],
            "text/html": [
              "\n",
              "  <div id=\"df-3fb2d76e-ee11-42b2-a160-487afaa1646d\" class=\"colab-df-container\">\n",
              "    <div>\n",
              "<style scoped>\n",
              "    .dataframe tbody tr th:only-of-type {\n",
              "        vertical-align: middle;\n",
              "    }\n",
              "\n",
              "    .dataframe tbody tr th {\n",
              "        vertical-align: top;\n",
              "    }\n",
              "\n",
              "    .dataframe thead th {\n",
              "        text-align: right;\n",
              "    }\n",
              "</style>\n",
              "<table border=\"1\" class=\"dataframe\">\n",
              "  <thead>\n",
              "    <tr style=\"text-align: right;\">\n",
              "      <th></th>\n",
              "      <th>User_ID</th>\n",
              "      <th>Rating</th>\n",
              "      <th>Movie_ID</th>\n",
              "    </tr>\n",
              "  </thead>\n",
              "  <tbody>\n",
              "    <tr>\n",
              "      <th>28</th>\n",
              "      <td>603277</td>\n",
              "      <td>3</td>\n",
              "      <td>3</td>\n",
              "    </tr>\n",
              "    <tr>\n",
              "      <th>45</th>\n",
              "      <td>2312349</td>\n",
              "      <td>4</td>\n",
              "      <td>3</td>\n",
              "    </tr>\n",
              "    <tr>\n",
              "      <th>51</th>\n",
              "      <td>1977959</td>\n",
              "      <td>4</td>\n",
              "      <td>3</td>\n",
              "    </tr>\n",
              "    <tr>\n",
              "      <th>66</th>\n",
              "      <td>1333</td>\n",
              "      <td>4</td>\n",
              "      <td>3</td>\n",
              "    </tr>\n",
              "    <tr>\n",
              "      <th>92</th>\n",
              "      <td>2554745</td>\n",
              "      <td>4</td>\n",
              "      <td>3</td>\n",
              "    </tr>\n",
              "    <tr>\n",
              "      <th>...</th>\n",
              "      <td>...</td>\n",
              "      <td>...</td>\n",
              "      <td>...</td>\n",
              "    </tr>\n",
              "    <tr>\n",
              "      <th>17337391</th>\n",
              "      <td>2634967</td>\n",
              "      <td>1</td>\n",
              "      <td>4496</td>\n",
              "    </tr>\n",
              "    <tr>\n",
              "      <th>17337398</th>\n",
              "      <td>1300759</td>\n",
              "      <td>4</td>\n",
              "      <td>4496</td>\n",
              "    </tr>\n",
              "    <tr>\n",
              "      <th>17337433</th>\n",
              "      <td>2513621</td>\n",
              "      <td>4</td>\n",
              "      <td>4496</td>\n",
              "    </tr>\n",
              "    <tr>\n",
              "      <th>17337434</th>\n",
              "      <td>324510</td>\n",
              "      <td>3</td>\n",
              "      <td>4496</td>\n",
              "    </tr>\n",
              "    <tr>\n",
              "      <th>17337452</th>\n",
              "      <td>823628</td>\n",
              "      <td>5</td>\n",
              "      <td>4496</td>\n",
              "    </tr>\n",
              "  </tbody>\n",
              "</table>\n",
              "<p>858970 rows × 3 columns</p>\n",
              "</div>\n",
              "    <div class=\"colab-df-buttons\">\n",
              "\n",
              "  <div class=\"colab-df-container\">\n",
              "    <button class=\"colab-df-convert\" onclick=\"convertToInteractive('df-3fb2d76e-ee11-42b2-a160-487afaa1646d')\"\n",
              "            title=\"Convert this dataframe to an interactive table.\"\n",
              "            style=\"display:none;\">\n",
              "\n",
              "  <svg xmlns=\"http://www.w3.org/2000/svg\" height=\"24px\" viewBox=\"0 -960 960 960\">\n",
              "    <path d=\"M120-120v-720h720v720H120Zm60-500h600v-160H180v160Zm220 220h160v-160H400v160Zm0 220h160v-160H400v160ZM180-400h160v-160H180v160Zm440 0h160v-160H620v160ZM180-180h160v-160H180v160Zm440 0h160v-160H620v160Z\"/>\n",
              "  </svg>\n",
              "    </button>\n",
              "\n",
              "  <style>\n",
              "    .colab-df-container {\n",
              "      display:flex;\n",
              "      gap: 12px;\n",
              "    }\n",
              "\n",
              "    .colab-df-convert {\n",
              "      background-color: #E8F0FE;\n",
              "      border: none;\n",
              "      border-radius: 50%;\n",
              "      cursor: pointer;\n",
              "      display: none;\n",
              "      fill: #1967D2;\n",
              "      height: 32px;\n",
              "      padding: 0 0 0 0;\n",
              "      width: 32px;\n",
              "    }\n",
              "\n",
              "    .colab-df-convert:hover {\n",
              "      background-color: #E2EBFA;\n",
              "      box-shadow: 0px 1px 2px rgba(60, 64, 67, 0.3), 0px 1px 3px 1px rgba(60, 64, 67, 0.15);\n",
              "      fill: #174EA6;\n",
              "    }\n",
              "\n",
              "    .colab-df-buttons div {\n",
              "      margin-bottom: 4px;\n",
              "    }\n",
              "\n",
              "    [theme=dark] .colab-df-convert {\n",
              "      background-color: #3B4455;\n",
              "      fill: #D2E3FC;\n",
              "    }\n",
              "\n",
              "    [theme=dark] .colab-df-convert:hover {\n",
              "      background-color: #434B5C;\n",
              "      box-shadow: 0px 1px 3px 1px rgba(0, 0, 0, 0.15);\n",
              "      filter: drop-shadow(0px 1px 2px rgba(0, 0, 0, 0.3));\n",
              "      fill: #FFFFFF;\n",
              "    }\n",
              "  </style>\n",
              "\n",
              "    <script>\n",
              "      const buttonEl =\n",
              "        document.querySelector('#df-3fb2d76e-ee11-42b2-a160-487afaa1646d button.colab-df-convert');\n",
              "      buttonEl.style.display =\n",
              "        google.colab.kernel.accessAllowed ? 'block' : 'none';\n",
              "\n",
              "      async function convertToInteractive(key) {\n",
              "        const element = document.querySelector('#df-3fb2d76e-ee11-42b2-a160-487afaa1646d');\n",
              "        const dataTable =\n",
              "          await google.colab.kernel.invokeFunction('convertToInteractive',\n",
              "                                                    [key], {});\n",
              "        if (!dataTable) return;\n",
              "\n",
              "        const docLinkHtml = 'Like what you see? Visit the ' +\n",
              "          '<a target=\"_blank\" href=https://colab.research.google.com/notebooks/data_table.ipynb>data table notebook</a>'\n",
              "          + ' to learn more about interactive tables.';\n",
              "        element.innerHTML = '';\n",
              "        dataTable['output_type'] = 'display_data';\n",
              "        await google.colab.output.renderOutput(dataTable, element);\n",
              "        const docLink = document.createElement('div');\n",
              "        docLink.innerHTML = docLinkHtml;\n",
              "        element.appendChild(docLink);\n",
              "      }\n",
              "    </script>\n",
              "  </div>\n",
              "\n",
              "\n",
              "<div id=\"df-760b8943-feca-4fcb-ab01-f8b4cf1cc424\">\n",
              "  <button class=\"colab-df-quickchart\" onclick=\"quickchart('df-760b8943-feca-4fcb-ab01-f8b4cf1cc424')\"\n",
              "            title=\"Suggest charts\"\n",
              "            style=\"display:none;\">\n",
              "\n",
              "<svg xmlns=\"http://www.w3.org/2000/svg\" height=\"24px\"viewBox=\"0 0 24 24\"\n",
              "     width=\"24px\">\n",
              "    <g>\n",
              "        <path d=\"M19 3H5c-1.1 0-2 .9-2 2v14c0 1.1.9 2 2 2h14c1.1 0 2-.9 2-2V5c0-1.1-.9-2-2-2zM9 17H7v-7h2v7zm4 0h-2V7h2v10zm4 0h-2v-4h2v4z\"/>\n",
              "    </g>\n",
              "</svg>\n",
              "  </button>\n",
              "\n",
              "<style>\n",
              "  .colab-df-quickchart {\n",
              "      --bg-color: #E8F0FE;\n",
              "      --fill-color: #1967D2;\n",
              "      --hover-bg-color: #E2EBFA;\n",
              "      --hover-fill-color: #174EA6;\n",
              "      --disabled-fill-color: #AAA;\n",
              "      --disabled-bg-color: #DDD;\n",
              "  }\n",
              "\n",
              "  [theme=dark] .colab-df-quickchart {\n",
              "      --bg-color: #3B4455;\n",
              "      --fill-color: #D2E3FC;\n",
              "      --hover-bg-color: #434B5C;\n",
              "      --hover-fill-color: #FFFFFF;\n",
              "      --disabled-bg-color: #3B4455;\n",
              "      --disabled-fill-color: #666;\n",
              "  }\n",
              "\n",
              "  .colab-df-quickchart {\n",
              "    background-color: var(--bg-color);\n",
              "    border: none;\n",
              "    border-radius: 50%;\n",
              "    cursor: pointer;\n",
              "    display: none;\n",
              "    fill: var(--fill-color);\n",
              "    height: 32px;\n",
              "    padding: 0;\n",
              "    width: 32px;\n",
              "  }\n",
              "\n",
              "  .colab-df-quickchart:hover {\n",
              "    background-color: var(--hover-bg-color);\n",
              "    box-shadow: 0 1px 2px rgba(60, 64, 67, 0.3), 0 1px 3px 1px rgba(60, 64, 67, 0.15);\n",
              "    fill: var(--button-hover-fill-color);\n",
              "  }\n",
              "\n",
              "  .colab-df-quickchart-complete:disabled,\n",
              "  .colab-df-quickchart-complete:disabled:hover {\n",
              "    background-color: var(--disabled-bg-color);\n",
              "    fill: var(--disabled-fill-color);\n",
              "    box-shadow: none;\n",
              "  }\n",
              "\n",
              "  .colab-df-spinner {\n",
              "    border: 2px solid var(--fill-color);\n",
              "    border-color: transparent;\n",
              "    border-bottom-color: var(--fill-color);\n",
              "    animation:\n",
              "      spin 1s steps(1) infinite;\n",
              "  }\n",
              "\n",
              "  @keyframes spin {\n",
              "    0% {\n",
              "      border-color: transparent;\n",
              "      border-bottom-color: var(--fill-color);\n",
              "      border-left-color: var(--fill-color);\n",
              "    }\n",
              "    20% {\n",
              "      border-color: transparent;\n",
              "      border-left-color: var(--fill-color);\n",
              "      border-top-color: var(--fill-color);\n",
              "    }\n",
              "    30% {\n",
              "      border-color: transparent;\n",
              "      border-left-color: var(--fill-color);\n",
              "      border-top-color: var(--fill-color);\n",
              "      border-right-color: var(--fill-color);\n",
              "    }\n",
              "    40% {\n",
              "      border-color: transparent;\n",
              "      border-right-color: var(--fill-color);\n",
              "      border-top-color: var(--fill-color);\n",
              "    }\n",
              "    60% {\n",
              "      border-color: transparent;\n",
              "      border-right-color: var(--fill-color);\n",
              "    }\n",
              "    80% {\n",
              "      border-color: transparent;\n",
              "      border-right-color: var(--fill-color);\n",
              "      border-bottom-color: var(--fill-color);\n",
              "    }\n",
              "    90% {\n",
              "      border-color: transparent;\n",
              "      border-bottom-color: var(--fill-color);\n",
              "    }\n",
              "  }\n",
              "</style>\n",
              "\n",
              "  <script>\n",
              "    async function quickchart(key) {\n",
              "      const quickchartButtonEl =\n",
              "        document.querySelector('#' + key + ' button');\n",
              "      quickchartButtonEl.disabled = true;  // To prevent multiple clicks.\n",
              "      quickchartButtonEl.classList.add('colab-df-spinner');\n",
              "      try {\n",
              "        const charts = await google.colab.kernel.invokeFunction(\n",
              "            'suggestCharts', [key], {});\n",
              "      } catch (error) {\n",
              "        console.error('Error during call to suggestCharts:', error);\n",
              "      }\n",
              "      quickchartButtonEl.classList.remove('colab-df-spinner');\n",
              "      quickchartButtonEl.classList.add('colab-df-quickchart-complete');\n",
              "    }\n",
              "    (() => {\n",
              "      let quickchartButtonEl =\n",
              "        document.querySelector('#df-760b8943-feca-4fcb-ab01-f8b4cf1cc424 button');\n",
              "      quickchartButtonEl.style.display =\n",
              "        google.colab.kernel.accessAllowed ? 'block' : 'none';\n",
              "    })();\n",
              "  </script>\n",
              "</div>\n",
              "\n",
              "  <div id=\"id_b63a6965-0f22-45a2-b186-776c7ad7781c\">\n",
              "    <style>\n",
              "      .colab-df-generate {\n",
              "        background-color: #E8F0FE;\n",
              "        border: none;\n",
              "        border-radius: 50%;\n",
              "        cursor: pointer;\n",
              "        display: none;\n",
              "        fill: #1967D2;\n",
              "        height: 32px;\n",
              "        padding: 0 0 0 0;\n",
              "        width: 32px;\n",
              "      }\n",
              "\n",
              "      .colab-df-generate:hover {\n",
              "        background-color: #E2EBFA;\n",
              "        box-shadow: 0px 1px 2px rgba(60, 64, 67, 0.3), 0px 1px 3px 1px rgba(60, 64, 67, 0.15);\n",
              "        fill: #174EA6;\n",
              "      }\n",
              "\n",
              "      [theme=dark] .colab-df-generate {\n",
              "        background-color: #3B4455;\n",
              "        fill: #D2E3FC;\n",
              "      }\n",
              "\n",
              "      [theme=dark] .colab-df-generate:hover {\n",
              "        background-color: #434B5C;\n",
              "        box-shadow: 0px 1px 3px 1px rgba(0, 0, 0, 0.15);\n",
              "        filter: drop-shadow(0px 1px 2px rgba(0, 0, 0, 0.3));\n",
              "        fill: #FFFFFF;\n",
              "      }\n",
              "    </style>\n",
              "    <button class=\"colab-df-generate\" onclick=\"generateWithVariable('selected_df')\"\n",
              "            title=\"Generate code using this dataframe.\"\n",
              "            style=\"display:none;\">\n",
              "\n",
              "  <svg xmlns=\"http://www.w3.org/2000/svg\" height=\"24px\"viewBox=\"0 0 24 24\"\n",
              "       width=\"24px\">\n",
              "    <path d=\"M7,19H8.4L18.45,9,17,7.55,7,17.6ZM5,21V16.75L18.45,3.32a2,2,0,0,1,2.83,0l1.4,1.43a1.91,1.91,0,0,1,.58,1.4,1.91,1.91,0,0,1-.58,1.4L9.25,21ZM18.45,9,17,7.55Zm-12,3A5.31,5.31,0,0,0,4.9,8.1,5.31,5.31,0,0,0,1,6.5,5.31,5.31,0,0,0,4.9,4.9,5.31,5.31,0,0,0,6.5,1,5.31,5.31,0,0,0,8.1,4.9,5.31,5.31,0,0,0,12,6.5,5.46,5.46,0,0,0,6.5,12Z\"/>\n",
              "  </svg>\n",
              "    </button>\n",
              "    <script>\n",
              "      (() => {\n",
              "      const buttonEl =\n",
              "        document.querySelector('#id_b63a6965-0f22-45a2-b186-776c7ad7781c button.colab-df-generate');\n",
              "      buttonEl.style.display =\n",
              "        google.colab.kernel.accessAllowed ? 'block' : 'none';\n",
              "\n",
              "      buttonEl.onclick = () => {\n",
              "        google.colab.notebook.generateWithVariable('selected_df');\n",
              "      }\n",
              "      })();\n",
              "    </script>\n",
              "  </div>\n",
              "\n",
              "    </div>\n",
              "  </div>\n"
            ],
            "application/vnd.google.colaboratory.intrinsic+json": {
              "type": "dataframe",
              "variable_name": "selected_df"
            }
          },
          "metadata": {},
          "execution_count": 10
        }
      ]
    },
    {
      "cell_type": "markdown",
      "source": [
        "menegcek jumlah user setelah proses seleksi"
      ],
      "metadata": {
        "id": "g2yB9YYbeU2E"
      }
    },
    {
      "cell_type": "code",
      "source": [
        "pd.Series(selected_df[\"User_ID\"].unique()).sort_values() #Convert to pandas Series then sort"
      ],
      "metadata": {
        "colab": {
          "base_uri": "https://localhost:8080/",
          "height": 458
        },
        "id": "N_4wKyUtUiJl",
        "outputId": "6776cb77-7f69-4167-a63b-8aff9bb88e7b"
      },
      "execution_count": 11,
      "outputs": [
        {
          "output_type": "execute_result",
          "data": {
            "text/plain": [
              "3          1333\n",
              "282        3321\n",
              "1026       3998\n",
              "1401       4905\n",
              "1124      10268\n",
              "         ...   \n",
              "587     2640760\n",
              "1237    2645579\n",
              "1106    2646347\n",
              "1295    2646574\n",
              "171     2647197\n",
              "Length: 1730, dtype: int64"
            ],
            "text/html": [
              "<div>\n",
              "<style scoped>\n",
              "    .dataframe tbody tr th:only-of-type {\n",
              "        vertical-align: middle;\n",
              "    }\n",
              "\n",
              "    .dataframe tbody tr th {\n",
              "        vertical-align: top;\n",
              "    }\n",
              "\n",
              "    .dataframe thead th {\n",
              "        text-align: right;\n",
              "    }\n",
              "</style>\n",
              "<table border=\"1\" class=\"dataframe\">\n",
              "  <thead>\n",
              "    <tr style=\"text-align: right;\">\n",
              "      <th></th>\n",
              "      <th>0</th>\n",
              "    </tr>\n",
              "  </thead>\n",
              "  <tbody>\n",
              "    <tr>\n",
              "      <th>3</th>\n",
              "      <td>1333</td>\n",
              "    </tr>\n",
              "    <tr>\n",
              "      <th>282</th>\n",
              "      <td>3321</td>\n",
              "    </tr>\n",
              "    <tr>\n",
              "      <th>1026</th>\n",
              "      <td>3998</td>\n",
              "    </tr>\n",
              "    <tr>\n",
              "      <th>1401</th>\n",
              "      <td>4905</td>\n",
              "    </tr>\n",
              "    <tr>\n",
              "      <th>1124</th>\n",
              "      <td>10268</td>\n",
              "    </tr>\n",
              "    <tr>\n",
              "      <th>...</th>\n",
              "      <td>...</td>\n",
              "    </tr>\n",
              "    <tr>\n",
              "      <th>587</th>\n",
              "      <td>2640760</td>\n",
              "    </tr>\n",
              "    <tr>\n",
              "      <th>1237</th>\n",
              "      <td>2645579</td>\n",
              "    </tr>\n",
              "    <tr>\n",
              "      <th>1106</th>\n",
              "      <td>2646347</td>\n",
              "    </tr>\n",
              "    <tr>\n",
              "      <th>1295</th>\n",
              "      <td>2646574</td>\n",
              "    </tr>\n",
              "    <tr>\n",
              "      <th>171</th>\n",
              "      <td>2647197</td>\n",
              "    </tr>\n",
              "  </tbody>\n",
              "</table>\n",
              "<p>1730 rows × 1 columns</p>\n",
              "</div><br><label><b>dtype:</b> int64</label>"
            ]
          },
          "metadata": {},
          "execution_count": 11
        }
      ]
    },
    {
      "cell_type": "markdown",
      "source": [
        "melihat jumlah film"
      ],
      "metadata": {
        "id": "iaWTdX9XechX"
      }
    },
    {
      "cell_type": "code",
      "source": [
        "pd.Series(selected_df[\"Movie_ID\"].unique()).sort_values() #Convert to pandas Series then sort"
      ],
      "metadata": {
        "colab": {
          "base_uri": "https://localhost:8080/",
          "height": 458
        },
        "id": "RKes-VG_WEiU",
        "outputId": "c6e96bc7-8a03-4f68-d891-564b604e83bf"
      },
      "execution_count": 12,
      "outputs": [
        {
          "output_type": "execute_result",
          "data": {
            "text/plain": [
              "0          3\n",
              "1          8\n",
              "2         16\n",
              "3         17\n",
              "4         18\n",
              "        ... \n",
              "1345    4488\n",
              "1346    4490\n",
              "1347    4492\n",
              "1348    4493\n",
              "1349    4496\n",
              "Length: 1350, dtype: int64"
            ],
            "text/html": [
              "<div>\n",
              "<style scoped>\n",
              "    .dataframe tbody tr th:only-of-type {\n",
              "        vertical-align: middle;\n",
              "    }\n",
              "\n",
              "    .dataframe tbody tr th {\n",
              "        vertical-align: top;\n",
              "    }\n",
              "\n",
              "    .dataframe thead th {\n",
              "        text-align: right;\n",
              "    }\n",
              "</style>\n",
              "<table border=\"1\" class=\"dataframe\">\n",
              "  <thead>\n",
              "    <tr style=\"text-align: right;\">\n",
              "      <th></th>\n",
              "      <th>0</th>\n",
              "    </tr>\n",
              "  </thead>\n",
              "  <tbody>\n",
              "    <tr>\n",
              "      <th>0</th>\n",
              "      <td>3</td>\n",
              "    </tr>\n",
              "    <tr>\n",
              "      <th>1</th>\n",
              "      <td>8</td>\n",
              "    </tr>\n",
              "    <tr>\n",
              "      <th>2</th>\n",
              "      <td>16</td>\n",
              "    </tr>\n",
              "    <tr>\n",
              "      <th>3</th>\n",
              "      <td>17</td>\n",
              "    </tr>\n",
              "    <tr>\n",
              "      <th>4</th>\n",
              "      <td>18</td>\n",
              "    </tr>\n",
              "    <tr>\n",
              "      <th>...</th>\n",
              "      <td>...</td>\n",
              "    </tr>\n",
              "    <tr>\n",
              "      <th>1345</th>\n",
              "      <td>4488</td>\n",
              "    </tr>\n",
              "    <tr>\n",
              "      <th>1346</th>\n",
              "      <td>4490</td>\n",
              "    </tr>\n",
              "    <tr>\n",
              "      <th>1347</th>\n",
              "      <td>4492</td>\n",
              "    </tr>\n",
              "    <tr>\n",
              "      <th>1348</th>\n",
              "      <td>4493</td>\n",
              "    </tr>\n",
              "    <tr>\n",
              "      <th>1349</th>\n",
              "      <td>4496</td>\n",
              "    </tr>\n",
              "  </tbody>\n",
              "</table>\n",
              "<p>1350 rows × 1 columns</p>\n",
              "</div><br><label><b>dtype:</b> int64</label>"
            ]
          },
          "metadata": {},
          "execution_count": 12
        }
      ]
    },
    {
      "cell_type": "markdown",
      "source": [
        "#### Sparsity"
      ],
      "metadata": {
        "id": "ota2hdSqY6Sd"
      }
    },
    {
      "cell_type": "markdown",
      "source": [
        "Persentase sparsity yang menjadi masalah dalam sistem rekomendasi"
      ],
      "metadata": {
        "id": "UAR8qXNTefa8"
      }
    },
    {
      "cell_type": "code",
      "source": [
        "maksimum_jumlah_rating = len(selected_df[\"User_ID\"].unique()) * len(selected_df[\"Movie_ID\"].unique())\n",
        "missing_value=maksimum_jumlah_rating-selected_df[\"Rating\"].count()\n",
        "sparsity=missing_value/maksimum_jumlah_rating*100\n",
        "\n",
        "print(\"Maksimum jumlah rating:\",maksimum_jumlah_rating)\n",
        "print(\"Jumlah rating:\",selected_df[\"Rating\"].count())\n",
        "print(\"Jumlah data yang kosong:\",missing_value)\n",
        "print(\"Sparsity:\",round(sparsity, 2),\"%\")"
      ],
      "metadata": {
        "colab": {
          "base_uri": "https://localhost:8080/"
        },
        "id": "UIYMMtHXWSJ7",
        "outputId": "e15213b4-c4b9-4b78-9244-44bc5212972e"
      },
      "execution_count": 13,
      "outputs": [
        {
          "output_type": "stream",
          "name": "stdout",
          "text": [
            "Maksimum jumlah rating: 2335500\n",
            "Jumlah rating: 858970\n",
            "Jumlah data yang kosong: 1476530\n",
            "Sparsity: 63.22 %\n"
          ]
        }
      ]
    },
    {
      "cell_type": "markdown",
      "metadata": {
        "id": "bFgLyQPHX98s"
      },
      "source": [
        "### Data Preprocessing"
      ]
    },
    {
      "cell_type": "markdown",
      "source": [
        "#### Split Dataset"
      ],
      "metadata": {
        "id": "9ICO2-E0YxzD"
      }
    },
    {
      "cell_type": "markdown",
      "source": [
        "Melakukan split data 80% training, 20% testing"
      ],
      "metadata": {
        "id": "CXPhuHxPendh"
      }
    },
    {
      "cell_type": "code",
      "execution_count": 14,
      "metadata": {
        "id": "8HJokQbxX98s",
        "colab": {
          "base_uri": "https://localhost:8080/"
        },
        "outputId": "2a009a19-6220-4d47-ab1b-d8706e3583c2"
      },
      "outputs": [
        {
          "output_type": "stream",
          "name": "stdout",
          "text": [
            "Training Data:\n",
            "           User_ID  Rating  Movie_ID\n",
            "6366288   1999678       5      1746\n",
            "14584994   838130       3      3858\n",
            "13499111  1675966       4      3579\n",
            "1723249    934606       4       452\n",
            "1481411   1247574       2       361\n",
            "...           ...     ...       ...\n",
            "5094265   2580072       3      1408\n",
            "7223252   1559165       4      1956\n",
            "2638021   1672832       2       700\n",
            "13304311  1784150       3      3523\n",
            "2520326   2407453       5       660\n",
            "\n",
            "[687176 rows x 3 columns]\n",
            "\n",
            "Testing Data:\n",
            "           User_ID  Rating  Movie_ID\n",
            "4270669   2602249       3      1160\n",
            "16015123  1494162       3      4216\n",
            "2814222   1181609       4       746\n",
            "15064749   423990       5      3925\n",
            "16641672    10947       3      4345\n",
            "...           ...     ...       ...\n",
            "12153013    53694       3      3265\n",
            "16501147   394895       4      4310\n",
            "2111102   2360906       2       548\n",
            "5600387    977932       5      1561\n",
            "11469945  2025153       3      3095\n",
            "\n",
            "[171794 rows x 3 columns]\n"
          ]
        }
      ],
      "source": [
        "from sklearn.model_selection import train_test_split\n",
        "# Split data (80% training, 20% testing)\n",
        "train_data, test_data = train_test_split(selected_df, test_size=0.2, random_state=42)\n",
        "\n",
        "print(\"Training Data:\\n\", train_data)\n",
        "print(\"\\nTesting Data:\\n\", test_data)"
      ]
    },
    {
      "cell_type": "markdown",
      "metadata": {
        "id": "nc-Ph-oIYAUU"
      },
      "source": [
        "## Modelling"
      ]
    },
    {
      "cell_type": "markdown",
      "source": [
        "membuat matriks dari data training"
      ],
      "metadata": {
        "id": "afnrOfknes2b"
      }
    },
    {
      "cell_type": "code",
      "source": [
        "# Membuat matriks pengguna-item\n",
        "matrix = train_data.pivot_table(index='User_ID', columns='Movie_ID', values='Rating', fill_value=0)"
      ],
      "metadata": {
        "id": "5uxwQ65AEzgL"
      },
      "execution_count": 15,
      "outputs": []
    },
    {
      "cell_type": "markdown",
      "source": [
        "menampilkan matriks data training"
      ],
      "metadata": {
        "id": "ZK-kS1hBewm0"
      }
    },
    {
      "cell_type": "code",
      "source": [
        "matrix"
      ],
      "metadata": {
        "colab": {
          "base_uri": "https://localhost:8080/",
          "height": 455
        },
        "id": "Jk0fl2Q0FcYO",
        "outputId": "a0bff2b8-2565-4701-f213-ff5a3c20aa73"
      },
      "execution_count": 16,
      "outputs": [
        {
          "output_type": "execute_result",
          "data": {
            "text/plain": [
              "Movie_ID  3     8     16    17    18    26    28    30    32    33    ...  \\\n",
              "User_ID                                                               ...   \n",
              "1333       4.0   3.0   0.0   0.0   4.0   3.0   0.0   0.0   0.0   0.0  ...   \n",
              "3321       0.0   0.0   3.0   2.0   0.0   0.0   4.0   5.0   2.0   0.0  ...   \n",
              "3998       0.0   0.0   0.0   0.0   4.0   0.0   5.0   0.0   0.0   3.0  ...   \n",
              "4905       0.0   0.0   0.0   0.0   0.0   0.0   2.0   3.0   0.0   3.0  ...   \n",
              "10268      0.0   0.0   0.0   0.0   3.0   0.0   0.0   3.0   0.0   0.0  ...   \n",
              "...        ...   ...   ...   ...   ...   ...   ...   ...   ...   ...  ...   \n",
              "2640760    0.0   0.0   4.0   0.0   0.0   0.0   3.0   3.0   0.0   4.0  ...   \n",
              "2645579    0.0   0.0   0.0   0.0   0.0   3.0   4.0   3.0   0.0   0.0  ...   \n",
              "2646347    0.0   0.0   0.0   0.0   0.0   0.0   4.0   0.0   0.0   0.0  ...   \n",
              "2646574    0.0   0.0   0.0   0.0   0.0   3.0   4.0   4.0   0.0   0.0  ...   \n",
              "2647197    0.0   1.0   0.0   0.0   4.0   0.0   0.0   5.0   0.0   0.0  ...   \n",
              "\n",
              "Movie_ID  4472  4474  4478  4479  4485  4488  4490  4492  4493  4496  \n",
              "User_ID                                                               \n",
              "1333       5.0   0.0   0.0   3.0   2.0   4.0   0.0   0.0   0.0   2.0  \n",
              "3321       2.0   0.0   0.0   4.0   3.0   0.0   0.0   0.0   0.0   0.0  \n",
              "3998       4.0   0.0   0.0   0.0   0.0   0.0   0.0   0.0   0.0   0.0  \n",
              "4905       4.0   0.0   0.0   0.0   0.0   4.0   2.0   0.0   0.0   0.0  \n",
              "10268      4.0   0.0   0.0   0.0   0.0   3.0   3.0   0.0   0.0   0.0  \n",
              "...        ...   ...   ...   ...   ...   ...   ...   ...   ...   ...  \n",
              "2640760    3.0   1.0   0.0   5.0   2.0   4.0   0.0   0.0   0.0   0.0  \n",
              "2645579    0.0   0.0   0.0   0.0   4.0   3.0   0.0   2.0   3.0   0.0  \n",
              "2646347    4.0   0.0   0.0   2.0   0.0   0.0   0.0   0.0   0.0   3.0  \n",
              "2646574    0.0   4.0   0.0   0.0   0.0   0.0   3.0   0.0   0.0   0.0  \n",
              "2647197    2.0   0.0   0.0   3.0   0.0   0.0   0.0   0.0   0.0   0.0  \n",
              "\n",
              "[1730 rows x 1350 columns]"
            ],
            "text/html": [
              "\n",
              "  <div id=\"df-b28baee6-303b-4985-84e4-977fa945aa21\" class=\"colab-df-container\">\n",
              "    <div>\n",
              "<style scoped>\n",
              "    .dataframe tbody tr th:only-of-type {\n",
              "        vertical-align: middle;\n",
              "    }\n",
              "\n",
              "    .dataframe tbody tr th {\n",
              "        vertical-align: top;\n",
              "    }\n",
              "\n",
              "    .dataframe thead th {\n",
              "        text-align: right;\n",
              "    }\n",
              "</style>\n",
              "<table border=\"1\" class=\"dataframe\">\n",
              "  <thead>\n",
              "    <tr style=\"text-align: right;\">\n",
              "      <th>Movie_ID</th>\n",
              "      <th>3</th>\n",
              "      <th>8</th>\n",
              "      <th>16</th>\n",
              "      <th>17</th>\n",
              "      <th>18</th>\n",
              "      <th>26</th>\n",
              "      <th>28</th>\n",
              "      <th>30</th>\n",
              "      <th>32</th>\n",
              "      <th>33</th>\n",
              "      <th>...</th>\n",
              "      <th>4472</th>\n",
              "      <th>4474</th>\n",
              "      <th>4478</th>\n",
              "      <th>4479</th>\n",
              "      <th>4485</th>\n",
              "      <th>4488</th>\n",
              "      <th>4490</th>\n",
              "      <th>4492</th>\n",
              "      <th>4493</th>\n",
              "      <th>4496</th>\n",
              "    </tr>\n",
              "    <tr>\n",
              "      <th>User_ID</th>\n",
              "      <th></th>\n",
              "      <th></th>\n",
              "      <th></th>\n",
              "      <th></th>\n",
              "      <th></th>\n",
              "      <th></th>\n",
              "      <th></th>\n",
              "      <th></th>\n",
              "      <th></th>\n",
              "      <th></th>\n",
              "      <th></th>\n",
              "      <th></th>\n",
              "      <th></th>\n",
              "      <th></th>\n",
              "      <th></th>\n",
              "      <th></th>\n",
              "      <th></th>\n",
              "      <th></th>\n",
              "      <th></th>\n",
              "      <th></th>\n",
              "      <th></th>\n",
              "    </tr>\n",
              "  </thead>\n",
              "  <tbody>\n",
              "    <tr>\n",
              "      <th>1333</th>\n",
              "      <td>4.0</td>\n",
              "      <td>3.0</td>\n",
              "      <td>0.0</td>\n",
              "      <td>0.0</td>\n",
              "      <td>4.0</td>\n",
              "      <td>3.0</td>\n",
              "      <td>0.0</td>\n",
              "      <td>0.0</td>\n",
              "      <td>0.0</td>\n",
              "      <td>0.0</td>\n",
              "      <td>...</td>\n",
              "      <td>5.0</td>\n",
              "      <td>0.0</td>\n",
              "      <td>0.0</td>\n",
              "      <td>3.0</td>\n",
              "      <td>2.0</td>\n",
              "      <td>4.0</td>\n",
              "      <td>0.0</td>\n",
              "      <td>0.0</td>\n",
              "      <td>0.0</td>\n",
              "      <td>2.0</td>\n",
              "    </tr>\n",
              "    <tr>\n",
              "      <th>3321</th>\n",
              "      <td>0.0</td>\n",
              "      <td>0.0</td>\n",
              "      <td>3.0</td>\n",
              "      <td>2.0</td>\n",
              "      <td>0.0</td>\n",
              "      <td>0.0</td>\n",
              "      <td>4.0</td>\n",
              "      <td>5.0</td>\n",
              "      <td>2.0</td>\n",
              "      <td>0.0</td>\n",
              "      <td>...</td>\n",
              "      <td>2.0</td>\n",
              "      <td>0.0</td>\n",
              "      <td>0.0</td>\n",
              "      <td>4.0</td>\n",
              "      <td>3.0</td>\n",
              "      <td>0.0</td>\n",
              "      <td>0.0</td>\n",
              "      <td>0.0</td>\n",
              "      <td>0.0</td>\n",
              "      <td>0.0</td>\n",
              "    </tr>\n",
              "    <tr>\n",
              "      <th>3998</th>\n",
              "      <td>0.0</td>\n",
              "      <td>0.0</td>\n",
              "      <td>0.0</td>\n",
              "      <td>0.0</td>\n",
              "      <td>4.0</td>\n",
              "      <td>0.0</td>\n",
              "      <td>5.0</td>\n",
              "      <td>0.0</td>\n",
              "      <td>0.0</td>\n",
              "      <td>3.0</td>\n",
              "      <td>...</td>\n",
              "      <td>4.0</td>\n",
              "      <td>0.0</td>\n",
              "      <td>0.0</td>\n",
              "      <td>0.0</td>\n",
              "      <td>0.0</td>\n",
              "      <td>0.0</td>\n",
              "      <td>0.0</td>\n",
              "      <td>0.0</td>\n",
              "      <td>0.0</td>\n",
              "      <td>0.0</td>\n",
              "    </tr>\n",
              "    <tr>\n",
              "      <th>4905</th>\n",
              "      <td>0.0</td>\n",
              "      <td>0.0</td>\n",
              "      <td>0.0</td>\n",
              "      <td>0.0</td>\n",
              "      <td>0.0</td>\n",
              "      <td>0.0</td>\n",
              "      <td>2.0</td>\n",
              "      <td>3.0</td>\n",
              "      <td>0.0</td>\n",
              "      <td>3.0</td>\n",
              "      <td>...</td>\n",
              "      <td>4.0</td>\n",
              "      <td>0.0</td>\n",
              "      <td>0.0</td>\n",
              "      <td>0.0</td>\n",
              "      <td>0.0</td>\n",
              "      <td>4.0</td>\n",
              "      <td>2.0</td>\n",
              "      <td>0.0</td>\n",
              "      <td>0.0</td>\n",
              "      <td>0.0</td>\n",
              "    </tr>\n",
              "    <tr>\n",
              "      <th>10268</th>\n",
              "      <td>0.0</td>\n",
              "      <td>0.0</td>\n",
              "      <td>0.0</td>\n",
              "      <td>0.0</td>\n",
              "      <td>3.0</td>\n",
              "      <td>0.0</td>\n",
              "      <td>0.0</td>\n",
              "      <td>3.0</td>\n",
              "      <td>0.0</td>\n",
              "      <td>0.0</td>\n",
              "      <td>...</td>\n",
              "      <td>4.0</td>\n",
              "      <td>0.0</td>\n",
              "      <td>0.0</td>\n",
              "      <td>0.0</td>\n",
              "      <td>0.0</td>\n",
              "      <td>3.0</td>\n",
              "      <td>3.0</td>\n",
              "      <td>0.0</td>\n",
              "      <td>0.0</td>\n",
              "      <td>0.0</td>\n",
              "    </tr>\n",
              "    <tr>\n",
              "      <th>...</th>\n",
              "      <td>...</td>\n",
              "      <td>...</td>\n",
              "      <td>...</td>\n",
              "      <td>...</td>\n",
              "      <td>...</td>\n",
              "      <td>...</td>\n",
              "      <td>...</td>\n",
              "      <td>...</td>\n",
              "      <td>...</td>\n",
              "      <td>...</td>\n",
              "      <td>...</td>\n",
              "      <td>...</td>\n",
              "      <td>...</td>\n",
              "      <td>...</td>\n",
              "      <td>...</td>\n",
              "      <td>...</td>\n",
              "      <td>...</td>\n",
              "      <td>...</td>\n",
              "      <td>...</td>\n",
              "      <td>...</td>\n",
              "      <td>...</td>\n",
              "    </tr>\n",
              "    <tr>\n",
              "      <th>2640760</th>\n",
              "      <td>0.0</td>\n",
              "      <td>0.0</td>\n",
              "      <td>4.0</td>\n",
              "      <td>0.0</td>\n",
              "      <td>0.0</td>\n",
              "      <td>0.0</td>\n",
              "      <td>3.0</td>\n",
              "      <td>3.0</td>\n",
              "      <td>0.0</td>\n",
              "      <td>4.0</td>\n",
              "      <td>...</td>\n",
              "      <td>3.0</td>\n",
              "      <td>1.0</td>\n",
              "      <td>0.0</td>\n",
              "      <td>5.0</td>\n",
              "      <td>2.0</td>\n",
              "      <td>4.0</td>\n",
              "      <td>0.0</td>\n",
              "      <td>0.0</td>\n",
              "      <td>0.0</td>\n",
              "      <td>0.0</td>\n",
              "    </tr>\n",
              "    <tr>\n",
              "      <th>2645579</th>\n",
              "      <td>0.0</td>\n",
              "      <td>0.0</td>\n",
              "      <td>0.0</td>\n",
              "      <td>0.0</td>\n",
              "      <td>0.0</td>\n",
              "      <td>3.0</td>\n",
              "      <td>4.0</td>\n",
              "      <td>3.0</td>\n",
              "      <td>0.0</td>\n",
              "      <td>0.0</td>\n",
              "      <td>...</td>\n",
              "      <td>0.0</td>\n",
              "      <td>0.0</td>\n",
              "      <td>0.0</td>\n",
              "      <td>0.0</td>\n",
              "      <td>4.0</td>\n",
              "      <td>3.0</td>\n",
              "      <td>0.0</td>\n",
              "      <td>2.0</td>\n",
              "      <td>3.0</td>\n",
              "      <td>0.0</td>\n",
              "    </tr>\n",
              "    <tr>\n",
              "      <th>2646347</th>\n",
              "      <td>0.0</td>\n",
              "      <td>0.0</td>\n",
              "      <td>0.0</td>\n",
              "      <td>0.0</td>\n",
              "      <td>0.0</td>\n",
              "      <td>0.0</td>\n",
              "      <td>4.0</td>\n",
              "      <td>0.0</td>\n",
              "      <td>0.0</td>\n",
              "      <td>0.0</td>\n",
              "      <td>...</td>\n",
              "      <td>4.0</td>\n",
              "      <td>0.0</td>\n",
              "      <td>0.0</td>\n",
              "      <td>2.0</td>\n",
              "      <td>0.0</td>\n",
              "      <td>0.0</td>\n",
              "      <td>0.0</td>\n",
              "      <td>0.0</td>\n",
              "      <td>0.0</td>\n",
              "      <td>3.0</td>\n",
              "    </tr>\n",
              "    <tr>\n",
              "      <th>2646574</th>\n",
              "      <td>0.0</td>\n",
              "      <td>0.0</td>\n",
              "      <td>0.0</td>\n",
              "      <td>0.0</td>\n",
              "      <td>0.0</td>\n",
              "      <td>3.0</td>\n",
              "      <td>4.0</td>\n",
              "      <td>4.0</td>\n",
              "      <td>0.0</td>\n",
              "      <td>0.0</td>\n",
              "      <td>...</td>\n",
              "      <td>0.0</td>\n",
              "      <td>4.0</td>\n",
              "      <td>0.0</td>\n",
              "      <td>0.0</td>\n",
              "      <td>0.0</td>\n",
              "      <td>0.0</td>\n",
              "      <td>3.0</td>\n",
              "      <td>0.0</td>\n",
              "      <td>0.0</td>\n",
              "      <td>0.0</td>\n",
              "    </tr>\n",
              "    <tr>\n",
              "      <th>2647197</th>\n",
              "      <td>0.0</td>\n",
              "      <td>1.0</td>\n",
              "      <td>0.0</td>\n",
              "      <td>0.0</td>\n",
              "      <td>4.0</td>\n",
              "      <td>0.0</td>\n",
              "      <td>0.0</td>\n",
              "      <td>5.0</td>\n",
              "      <td>0.0</td>\n",
              "      <td>0.0</td>\n",
              "      <td>...</td>\n",
              "      <td>2.0</td>\n",
              "      <td>0.0</td>\n",
              "      <td>0.0</td>\n",
              "      <td>3.0</td>\n",
              "      <td>0.0</td>\n",
              "      <td>0.0</td>\n",
              "      <td>0.0</td>\n",
              "      <td>0.0</td>\n",
              "      <td>0.0</td>\n",
              "      <td>0.0</td>\n",
              "    </tr>\n",
              "  </tbody>\n",
              "</table>\n",
              "<p>1730 rows × 1350 columns</p>\n",
              "</div>\n",
              "    <div class=\"colab-df-buttons\">\n",
              "\n",
              "  <div class=\"colab-df-container\">\n",
              "    <button class=\"colab-df-convert\" onclick=\"convertToInteractive('df-b28baee6-303b-4985-84e4-977fa945aa21')\"\n",
              "            title=\"Convert this dataframe to an interactive table.\"\n",
              "            style=\"display:none;\">\n",
              "\n",
              "  <svg xmlns=\"http://www.w3.org/2000/svg\" height=\"24px\" viewBox=\"0 -960 960 960\">\n",
              "    <path d=\"M120-120v-720h720v720H120Zm60-500h600v-160H180v160Zm220 220h160v-160H400v160Zm0 220h160v-160H400v160ZM180-400h160v-160H180v160Zm440 0h160v-160H620v160ZM180-180h160v-160H180v160Zm440 0h160v-160H620v160Z\"/>\n",
              "  </svg>\n",
              "    </button>\n",
              "\n",
              "  <style>\n",
              "    .colab-df-container {\n",
              "      display:flex;\n",
              "      gap: 12px;\n",
              "    }\n",
              "\n",
              "    .colab-df-convert {\n",
              "      background-color: #E8F0FE;\n",
              "      border: none;\n",
              "      border-radius: 50%;\n",
              "      cursor: pointer;\n",
              "      display: none;\n",
              "      fill: #1967D2;\n",
              "      height: 32px;\n",
              "      padding: 0 0 0 0;\n",
              "      width: 32px;\n",
              "    }\n",
              "\n",
              "    .colab-df-convert:hover {\n",
              "      background-color: #E2EBFA;\n",
              "      box-shadow: 0px 1px 2px rgba(60, 64, 67, 0.3), 0px 1px 3px 1px rgba(60, 64, 67, 0.15);\n",
              "      fill: #174EA6;\n",
              "    }\n",
              "\n",
              "    .colab-df-buttons div {\n",
              "      margin-bottom: 4px;\n",
              "    }\n",
              "\n",
              "    [theme=dark] .colab-df-convert {\n",
              "      background-color: #3B4455;\n",
              "      fill: #D2E3FC;\n",
              "    }\n",
              "\n",
              "    [theme=dark] .colab-df-convert:hover {\n",
              "      background-color: #434B5C;\n",
              "      box-shadow: 0px 1px 3px 1px rgba(0, 0, 0, 0.15);\n",
              "      filter: drop-shadow(0px 1px 2px rgba(0, 0, 0, 0.3));\n",
              "      fill: #FFFFFF;\n",
              "    }\n",
              "  </style>\n",
              "\n",
              "    <script>\n",
              "      const buttonEl =\n",
              "        document.querySelector('#df-b28baee6-303b-4985-84e4-977fa945aa21 button.colab-df-convert');\n",
              "      buttonEl.style.display =\n",
              "        google.colab.kernel.accessAllowed ? 'block' : 'none';\n",
              "\n",
              "      async function convertToInteractive(key) {\n",
              "        const element = document.querySelector('#df-b28baee6-303b-4985-84e4-977fa945aa21');\n",
              "        const dataTable =\n",
              "          await google.colab.kernel.invokeFunction('convertToInteractive',\n",
              "                                                    [key], {});\n",
              "        if (!dataTable) return;\n",
              "\n",
              "        const docLinkHtml = 'Like what you see? Visit the ' +\n",
              "          '<a target=\"_blank\" href=https://colab.research.google.com/notebooks/data_table.ipynb>data table notebook</a>'\n",
              "          + ' to learn more about interactive tables.';\n",
              "        element.innerHTML = '';\n",
              "        dataTable['output_type'] = 'display_data';\n",
              "        await google.colab.output.renderOutput(dataTable, element);\n",
              "        const docLink = document.createElement('div');\n",
              "        docLink.innerHTML = docLinkHtml;\n",
              "        element.appendChild(docLink);\n",
              "      }\n",
              "    </script>\n",
              "  </div>\n",
              "\n",
              "\n",
              "<div id=\"df-4b8f30b8-9646-488e-ae9b-060645edbdfc\">\n",
              "  <button class=\"colab-df-quickchart\" onclick=\"quickchart('df-4b8f30b8-9646-488e-ae9b-060645edbdfc')\"\n",
              "            title=\"Suggest charts\"\n",
              "            style=\"display:none;\">\n",
              "\n",
              "<svg xmlns=\"http://www.w3.org/2000/svg\" height=\"24px\"viewBox=\"0 0 24 24\"\n",
              "     width=\"24px\">\n",
              "    <g>\n",
              "        <path d=\"M19 3H5c-1.1 0-2 .9-2 2v14c0 1.1.9 2 2 2h14c1.1 0 2-.9 2-2V5c0-1.1-.9-2-2-2zM9 17H7v-7h2v7zm4 0h-2V7h2v10zm4 0h-2v-4h2v4z\"/>\n",
              "    </g>\n",
              "</svg>\n",
              "  </button>\n",
              "\n",
              "<style>\n",
              "  .colab-df-quickchart {\n",
              "      --bg-color: #E8F0FE;\n",
              "      --fill-color: #1967D2;\n",
              "      --hover-bg-color: #E2EBFA;\n",
              "      --hover-fill-color: #174EA6;\n",
              "      --disabled-fill-color: #AAA;\n",
              "      --disabled-bg-color: #DDD;\n",
              "  }\n",
              "\n",
              "  [theme=dark] .colab-df-quickchart {\n",
              "      --bg-color: #3B4455;\n",
              "      --fill-color: #D2E3FC;\n",
              "      --hover-bg-color: #434B5C;\n",
              "      --hover-fill-color: #FFFFFF;\n",
              "      --disabled-bg-color: #3B4455;\n",
              "      --disabled-fill-color: #666;\n",
              "  }\n",
              "\n",
              "  .colab-df-quickchart {\n",
              "    background-color: var(--bg-color);\n",
              "    border: none;\n",
              "    border-radius: 50%;\n",
              "    cursor: pointer;\n",
              "    display: none;\n",
              "    fill: var(--fill-color);\n",
              "    height: 32px;\n",
              "    padding: 0;\n",
              "    width: 32px;\n",
              "  }\n",
              "\n",
              "  .colab-df-quickchart:hover {\n",
              "    background-color: var(--hover-bg-color);\n",
              "    box-shadow: 0 1px 2px rgba(60, 64, 67, 0.3), 0 1px 3px 1px rgba(60, 64, 67, 0.15);\n",
              "    fill: var(--button-hover-fill-color);\n",
              "  }\n",
              "\n",
              "  .colab-df-quickchart-complete:disabled,\n",
              "  .colab-df-quickchart-complete:disabled:hover {\n",
              "    background-color: var(--disabled-bg-color);\n",
              "    fill: var(--disabled-fill-color);\n",
              "    box-shadow: none;\n",
              "  }\n",
              "\n",
              "  .colab-df-spinner {\n",
              "    border: 2px solid var(--fill-color);\n",
              "    border-color: transparent;\n",
              "    border-bottom-color: var(--fill-color);\n",
              "    animation:\n",
              "      spin 1s steps(1) infinite;\n",
              "  }\n",
              "\n",
              "  @keyframes spin {\n",
              "    0% {\n",
              "      border-color: transparent;\n",
              "      border-bottom-color: var(--fill-color);\n",
              "      border-left-color: var(--fill-color);\n",
              "    }\n",
              "    20% {\n",
              "      border-color: transparent;\n",
              "      border-left-color: var(--fill-color);\n",
              "      border-top-color: var(--fill-color);\n",
              "    }\n",
              "    30% {\n",
              "      border-color: transparent;\n",
              "      border-left-color: var(--fill-color);\n",
              "      border-top-color: var(--fill-color);\n",
              "      border-right-color: var(--fill-color);\n",
              "    }\n",
              "    40% {\n",
              "      border-color: transparent;\n",
              "      border-right-color: var(--fill-color);\n",
              "      border-top-color: var(--fill-color);\n",
              "    }\n",
              "    60% {\n",
              "      border-color: transparent;\n",
              "      border-right-color: var(--fill-color);\n",
              "    }\n",
              "    80% {\n",
              "      border-color: transparent;\n",
              "      border-right-color: var(--fill-color);\n",
              "      border-bottom-color: var(--fill-color);\n",
              "    }\n",
              "    90% {\n",
              "      border-color: transparent;\n",
              "      border-bottom-color: var(--fill-color);\n",
              "    }\n",
              "  }\n",
              "</style>\n",
              "\n",
              "  <script>\n",
              "    async function quickchart(key) {\n",
              "      const quickchartButtonEl =\n",
              "        document.querySelector('#' + key + ' button');\n",
              "      quickchartButtonEl.disabled = true;  // To prevent multiple clicks.\n",
              "      quickchartButtonEl.classList.add('colab-df-spinner');\n",
              "      try {\n",
              "        const charts = await google.colab.kernel.invokeFunction(\n",
              "            'suggestCharts', [key], {});\n",
              "      } catch (error) {\n",
              "        console.error('Error during call to suggestCharts:', error);\n",
              "      }\n",
              "      quickchartButtonEl.classList.remove('colab-df-spinner');\n",
              "      quickchartButtonEl.classList.add('colab-df-quickchart-complete');\n",
              "    }\n",
              "    (() => {\n",
              "      let quickchartButtonEl =\n",
              "        document.querySelector('#df-4b8f30b8-9646-488e-ae9b-060645edbdfc button');\n",
              "      quickchartButtonEl.style.display =\n",
              "        google.colab.kernel.accessAllowed ? 'block' : 'none';\n",
              "    })();\n",
              "  </script>\n",
              "</div>\n",
              "\n",
              "  <div id=\"id_b5816a86-511b-4999-8418-32f2886b213e\">\n",
              "    <style>\n",
              "      .colab-df-generate {\n",
              "        background-color: #E8F0FE;\n",
              "        border: none;\n",
              "        border-radius: 50%;\n",
              "        cursor: pointer;\n",
              "        display: none;\n",
              "        fill: #1967D2;\n",
              "        height: 32px;\n",
              "        padding: 0 0 0 0;\n",
              "        width: 32px;\n",
              "      }\n",
              "\n",
              "      .colab-df-generate:hover {\n",
              "        background-color: #E2EBFA;\n",
              "        box-shadow: 0px 1px 2px rgba(60, 64, 67, 0.3), 0px 1px 3px 1px rgba(60, 64, 67, 0.15);\n",
              "        fill: #174EA6;\n",
              "      }\n",
              "\n",
              "      [theme=dark] .colab-df-generate {\n",
              "        background-color: #3B4455;\n",
              "        fill: #D2E3FC;\n",
              "      }\n",
              "\n",
              "      [theme=dark] .colab-df-generate:hover {\n",
              "        background-color: #434B5C;\n",
              "        box-shadow: 0px 1px 3px 1px rgba(0, 0, 0, 0.15);\n",
              "        filter: drop-shadow(0px 1px 2px rgba(0, 0, 0, 0.3));\n",
              "        fill: #FFFFFF;\n",
              "      }\n",
              "    </style>\n",
              "    <button class=\"colab-df-generate\" onclick=\"generateWithVariable('matrix')\"\n",
              "            title=\"Generate code using this dataframe.\"\n",
              "            style=\"display:none;\">\n",
              "\n",
              "  <svg xmlns=\"http://www.w3.org/2000/svg\" height=\"24px\"viewBox=\"0 0 24 24\"\n",
              "       width=\"24px\">\n",
              "    <path d=\"M7,19H8.4L18.45,9,17,7.55,7,17.6ZM5,21V16.75L18.45,3.32a2,2,0,0,1,2.83,0l1.4,1.43a1.91,1.91,0,0,1,.58,1.4,1.91,1.91,0,0,1-.58,1.4L9.25,21ZM18.45,9,17,7.55Zm-12,3A5.31,5.31,0,0,0,4.9,8.1,5.31,5.31,0,0,0,1,6.5,5.31,5.31,0,0,0,4.9,4.9,5.31,5.31,0,0,0,6.5,1,5.31,5.31,0,0,0,8.1,4.9,5.31,5.31,0,0,0,12,6.5,5.46,5.46,0,0,0,6.5,12Z\"/>\n",
              "  </svg>\n",
              "    </button>\n",
              "    <script>\n",
              "      (() => {\n",
              "      const buttonEl =\n",
              "        document.querySelector('#id_b5816a86-511b-4999-8418-32f2886b213e button.colab-df-generate');\n",
              "      buttonEl.style.display =\n",
              "        google.colab.kernel.accessAllowed ? 'block' : 'none';\n",
              "\n",
              "      buttonEl.onclick = () => {\n",
              "        google.colab.notebook.generateWithVariable('matrix');\n",
              "      }\n",
              "      })();\n",
              "    </script>\n",
              "  </div>\n",
              "\n",
              "    </div>\n",
              "  </div>\n"
            ],
            "application/vnd.google.colaboratory.intrinsic+json": {
              "type": "dataframe",
              "variable_name": "matrix"
            }
          },
          "metadata": {},
          "execution_count": 16
        }
      ]
    },
    {
      "cell_type": "markdown",
      "source": [
        "menyeleksi hanya nilai rating saja yang digunakan"
      ],
      "metadata": {
        "id": "r9tIZVr0e2Tp"
      }
    },
    {
      "cell_type": "code",
      "source": [
        "R= matrix.values"
      ],
      "metadata": {
        "id": "ig8K30ONE8Dm"
      },
      "execution_count": 17,
      "outputs": []
    },
    {
      "cell_type": "markdown",
      "source": [
        "menampilkan matrikx nilai rating"
      ],
      "metadata": {
        "id": "9-I6xqjEe6_2"
      }
    },
    {
      "cell_type": "code",
      "source": [
        "R"
      ],
      "metadata": {
        "colab": {
          "base_uri": "https://localhost:8080/"
        },
        "id": "DxUuTZZwFabX",
        "outputId": "52cb13c0-9235-49e4-e9dd-68bde814c2fa"
      },
      "execution_count": 18,
      "outputs": [
        {
          "output_type": "execute_result",
          "data": {
            "text/plain": [
              "array([[4., 3., 0., ..., 0., 0., 2.],\n",
              "       [0., 0., 3., ..., 0., 0., 0.],\n",
              "       [0., 0., 0., ..., 0., 0., 0.],\n",
              "       ...,\n",
              "       [0., 0., 0., ..., 0., 0., 3.],\n",
              "       [0., 0., 0., ..., 0., 0., 0.],\n",
              "       [0., 1., 0., ..., 0., 0., 0.]])"
            ]
          },
          "metadata": {},
          "execution_count": 18
        }
      ]
    },
    {
      "cell_type": "markdown",
      "source": [
        "#### SVD"
      ],
      "metadata": {
        "id": "H3dnbUzUK7mE"
      }
    },
    {
      "cell_type": "markdown",
      "source": [
        "melakukan svd dengan menggunakan n_components=50"
      ],
      "metadata": {
        "id": "CYu_zT1ye_KM"
      }
    },
    {
      "cell_type": "code",
      "source": [
        "# Truncated SVD\n",
        "svd = TruncatedSVD(n_components=50)  # 2 komponen laten"
      ],
      "metadata": {
        "id": "O2AK8CHayvkT"
      },
      "execution_count": 19,
      "outputs": []
    },
    {
      "cell_type": "markdown",
      "source": [
        "Menghitung matriks U (merepresentasikan laten user)"
      ],
      "metadata": {
        "id": "_so3B3gQfFnt"
      }
    },
    {
      "cell_type": "code",
      "source": [
        "U = svd.fit_transform(R)"
      ],
      "metadata": {
        "id": "LFfsD-1NFBIg"
      },
      "execution_count": 20,
      "outputs": []
    },
    {
      "cell_type": "markdown",
      "source": [
        "Menghitung matriks Vt"
      ],
      "metadata": {
        "id": "kLVcZH3CfMZ1"
      }
    },
    {
      "cell_type": "code",
      "source": [
        "# Matriks V^T tereduksi\n",
        "Vt = svd.components_"
      ],
      "metadata": {
        "id": "FEyNwWf-Iu64"
      },
      "execution_count": 21,
      "outputs": []
    },
    {
      "cell_type": "markdown",
      "source": [
        "menampilkan ukuran matriks U"
      ],
      "metadata": {
        "id": "j2Q3lO7XfO6Q"
      }
    },
    {
      "cell_type": "code",
      "source": [
        "U.shape"
      ],
      "metadata": {
        "colab": {
          "base_uri": "https://localhost:8080/"
        },
        "id": "yWFfCka4Fll1",
        "outputId": "8b57360e-9b6e-4808-992c-4bd701097937"
      },
      "execution_count": 22,
      "outputs": [
        {
          "output_type": "execute_result",
          "data": {
            "text/plain": [
              "(1730, 50)"
            ]
          },
          "metadata": {},
          "execution_count": 22
        }
      ]
    },
    {
      "cell_type": "markdown",
      "source": [
        "Menampilkan ukuran matriks Vt"
      ],
      "metadata": {
        "id": "TBvQUQc2fRAd"
      }
    },
    {
      "cell_type": "code",
      "source": [
        "Vt.shape"
      ],
      "metadata": {
        "colab": {
          "base_uri": "https://localhost:8080/"
        },
        "id": "RXfPnVf3Iw5T",
        "outputId": "98e0caff-7164-4bad-f517-1925706fbd7b"
      },
      "execution_count": 23,
      "outputs": [
        {
          "output_type": "execute_result",
          "data": {
            "text/plain": [
              "(50, 1350)"
            ]
          },
          "metadata": {},
          "execution_count": 23
        }
      ]
    },
    {
      "cell_type": "markdown",
      "source": [
        "Mengkalikan matrik U dengan matriks Vt"
      ],
      "metadata": {
        "id": "h8vI--Q7fVBd"
      }
    },
    {
      "cell_type": "code",
      "source": [
        "R_pred = np.dot(U, Vt)\n",
        "\n",
        "# Menampilkan matriks rating yang diprediksi\n",
        "print(\"Matriks rating yang diprediksi:\")\n",
        "print(R_pred)"
      ],
      "metadata": {
        "colab": {
          "base_uri": "https://localhost:8080/"
        },
        "id": "hATJX84VJ02X",
        "outputId": "04e396eb-2ff9-47ae-8716-06e4369cbc8b"
      },
      "execution_count": 24,
      "outputs": [
        {
          "output_type": "stream",
          "name": "stdout",
          "text": [
            "Matriks rating yang diprediksi:\n",
            "[[ 1.66664489  1.63845022  0.15437824 ...  0.16454658  0.86447258\n",
            "   3.11977926]\n",
            " [ 0.09348413  0.31188086  1.68823337 ...  1.11070696  0.59964196\n",
            "   0.13492933]\n",
            " [ 0.16181427  0.02332605  1.41816688 ...  1.17302345  0.3050499\n",
            "  -0.13558964]\n",
            " ...\n",
            " [ 0.08021554  0.20424761 -0.19269774 ... -0.10454467  0.35930923\n",
            "   1.25796316]\n",
            " [ 0.05368339  0.04191204  0.11524647 ...  0.68058653  1.08286003\n",
            "   0.67975735]\n",
            " [ 0.31188799  0.64796775  1.59004717 ...  1.41711096  0.19000367\n",
            "  -0.53367025]]\n"
          ]
        }
      ]
    },
    {
      "cell_type": "markdown",
      "source": [
        "#### UB"
      ],
      "metadata": {
        "id": "qD56A7zxLAzF"
      }
    },
    {
      "cell_type": "markdown",
      "source": [
        "mencari user similarity dari matrik U"
      ],
      "metadata": {
        "id": "NkkQmFvdfbP1"
      }
    },
    {
      "cell_type": "code",
      "source": [
        "# Menghitung similarity antar pengguna menggunakan cosine similarity\n",
        "user_similarity = cosine_similarity(U)\n",
        "\n",
        "# Menampilkan similarity antar pengguna\n",
        "print(\"User-User Similarity Matrix:\")\n",
        "print(user_similarity)"
      ],
      "metadata": {
        "colab": {
          "base_uri": "https://localhost:8080/"
        },
        "id": "8R4c7uGwKofa",
        "outputId": "bc5b1d8f-e7fb-496b-c2d7-629751bb030a"
      },
      "execution_count": 25,
      "outputs": [
        {
          "output_type": "stream",
          "name": "stdout",
          "text": [
            "User-User Similarity Matrix:\n",
            "[[1.         0.55627508 0.51852319 ... 0.59154549 0.63447471 0.50736459]\n",
            " [0.55627508 1.         0.83232445 ... 0.69245999 0.80098544 0.81027741]\n",
            " [0.51852319 0.83232445 1.         ... 0.65008785 0.7477825  0.78527051]\n",
            " ...\n",
            " [0.59154549 0.69245999 0.65008785 ... 1.         0.63130502 0.60589835]\n",
            " [0.63447471 0.80098544 0.7477825  ... 0.63130502 1.         0.7573695 ]\n",
            " [0.50736459 0.81027741 0.78527051 ... 0.60589835 0.7573695  1.        ]]\n"
          ]
        }
      ]
    },
    {
      "cell_type": "markdown",
      "source": [
        "menampilkan ukuran matriks user similarity"
      ],
      "metadata": {
        "id": "tdQKQ1dvffZ4"
      }
    },
    {
      "cell_type": "code",
      "source": [
        "user_similarity.shape"
      ],
      "metadata": {
        "colab": {
          "base_uri": "https://localhost:8080/"
        },
        "id": "kCUMpl1Kol89",
        "outputId": "8c00e8f7-22d1-43a8-a249-7bb6bbff26c4"
      },
      "execution_count": 26,
      "outputs": [
        {
          "output_type": "execute_result",
          "data": {
            "text/plain": [
              "(1730, 1730)"
            ]
          },
          "metadata": {},
          "execution_count": 26
        }
      ]
    },
    {
      "cell_type": "markdown",
      "source": [
        "Menyimpan matriks"
      ],
      "metadata": {
        "id": "8FUBH0SifkFs"
      }
    },
    {
      "cell_type": "code",
      "source": [
        "# Menyimpan ke file .npy\n",
        "np.save(\"U.npy\", U)\n",
        "np.save(\"Vt.npy\", Vt)\n",
        "np.save(\"R_pred.npy\", R_pred)\n",
        "np.save(\"user_similarity.npy\", user_similarity)"
      ],
      "metadata": {
        "id": "2_HtGeBRm1gb"
      },
      "execution_count": 27,
      "outputs": []
    },
    {
      "cell_type": "markdown",
      "source": [
        "Membuat sebuah rekomendasi"
      ],
      "metadata": {
        "id": "8naXPCzZfmsn"
      }
    },
    {
      "cell_type": "code",
      "source": [
        "# Fungsi untuk memberikan rekomendasi berdasarkan pengguna yang mirip\n",
        "def get_recommendations(user_idx, user_similarity, R_pred, top_n=10):\n",
        "    # Mendapatkan similarity pengguna dengan pengguna lainnya\n",
        "    similar_users = user_similarity[user_idx]\n",
        "\n",
        "    # Menghitung weighted average untuk prediksi rating berdasarkan pengguna yang mirip\n",
        "    weighted_ratings = np.dot(similar_users, R_pred) / np.sum(np.abs(similar_users))\n",
        "\n",
        "    # Mengambil top-n rekomendasi untuk pengguna\n",
        "    recommended_items = np.argsort(weighted_ratings)[::-1][:top_n]\n",
        "\n",
        "    return recommended_items, weighted_ratings[recommended_items]"
      ],
      "metadata": {
        "id": "S1i-N_W2MKZ7"
      },
      "execution_count": 28,
      "outputs": []
    },
    {
      "cell_type": "markdown",
      "source": [
        "Menghitung NDCG"
      ],
      "metadata": {
        "id": "aME_q7EPfqG8"
      }
    },
    {
      "cell_type": "code",
      "source": [
        "# Fungsi untuk menghitung DCG dan NDCG\n",
        "def dcg_at_k(ranking, k):\n",
        "    \"\"\"\n",
        "    Menghitung DCG pada posisi k untuk sebuah ranking.\n",
        "    ranking: array yang berisi relevansi (rating aktual) item yang direkomendasikan.\n",
        "    k: jumlah top item yang digunakan.\n",
        "    \"\"\"\n",
        "    ranking = ranking[:k]\n",
        "    dcg = np.sum(ranking / np.log2(np.arange(2, k + 2)))\n",
        "    return dcg\n",
        "\n",
        "def ndcg_at_k(ranking, ideal_ranking, k):\n",
        "    \"\"\"\n",
        "    Menghitung NDCG pada posisi k dengan membandingkan ranking yang diperoleh dan ranking ideal.\n",
        "    ranking: array yang berisi relevansi (rating aktual) item yang direkomendasikan.\n",
        "    ideal_ranking: array yang berisi rating aktual item yang diurutkan berdasarkan relevansi tertinggi.\n",
        "    k: jumlah top item yang digunakan.\n",
        "    \"\"\"\n",
        "    dcg = dcg_at_k(ranking, k)\n",
        "    idcg = dcg_at_k(ideal_ranking, k)\n",
        "    return dcg / idcg if idcg > 0 else 0"
      ],
      "metadata": {
        "id": "h9aLXl5ROVpX"
      },
      "execution_count": 29,
      "outputs": []
    },
    {
      "cell_type": "markdown",
      "source": [
        "Meinisiasi recomendation dan ndcg dengan mengambil top 10"
      ],
      "metadata": {
        "id": "IDVd4M_IfsMS"
      }
    },
    {
      "cell_type": "code",
      "source": [
        "# Menghitung rekomendasi dan NDCG untuk semua pengguna\n",
        "top_n = 10  # Mengambil 10 rekomendasi teratas\n",
        "recommendations = {}\n",
        "ndcg_scores = {}"
      ],
      "metadata": {
        "id": "5CK1iTh9Oima"
      },
      "execution_count": 30,
      "outputs": []
    },
    {
      "cell_type": "markdown",
      "source": [
        "Menjalankan fungsi rekomendasi dan NDCG"
      ],
      "metadata": {
        "id": "QzOe34EWf27Q"
      }
    },
    {
      "cell_type": "code",
      "source": [
        "for user_idx in range(R.shape[0]):  # Iterasi untuk setiap pengguna\n",
        "    recommended_items, predicted_ratings = get_recommendations(user_idx, user_similarity, R_pred, top_n)\n",
        "\n",
        "    # Rating aktual untuk item yang direkomendasikan (dari R asli)\n",
        "    actual_ratings = R[user_idx, recommended_items]\n",
        "\n",
        "    # Ideal ranking adalah rating yang terurut secara menurun\n",
        "    ideal_ranking = np.sort(actual_ratings)[::-1]\n",
        "\n",
        "    # Menghitung NDCG untuk pengguna tersebut\n",
        "    ndcg_score = ndcg_at_k(actual_ratings, ideal_ranking, top_n)\n",
        "\n",
        "    # Simpan rekomendasi dan NDCG untuk pengguna\n",
        "    recommendations[user_idx] = {\n",
        "        \"recommended_items\": recommended_items.tolist(),\n",
        "        \"predicted_ratings\": predicted_ratings.tolist()\n",
        "    }\n",
        "    ndcg_scores[user_idx] = ndcg_score"
      ],
      "metadata": {
        "id": "ont-rxbzOPxP"
      },
      "execution_count": 31,
      "outputs": []
    },
    {
      "cell_type": "markdown",
      "source": [
        "Menyimpan file"
      ],
      "metadata": {
        "id": "4iC77E2qgGzv"
      }
    },
    {
      "cell_type": "code",
      "source": [
        "# Menyimpan ke file .npy\n",
        "np.save(\"recommendations.npy\", recommendations)\n",
        "np.save(\"ndcg_scores.npy\", ndcg_scores)"
      ],
      "metadata": {
        "id": "svQOZW56q6s-"
      },
      "execution_count": 32,
      "outputs": []
    },
    {
      "cell_type": "markdown",
      "source": [
        "### UB Tanpa SVD"
      ],
      "metadata": {
        "id": "QbLB3ElCQFGM"
      }
    },
    {
      "cell_type": "markdown",
      "source": [
        "Menghitung similarity tanpa SVD"
      ],
      "metadata": {
        "id": "bvaMnEdCWaQ7"
      }
    },
    {
      "cell_type": "code",
      "source": [
        "# Menghitung cosine similarity antar pengguna\n",
        "user_similarity = cosine_similarity(matrix)\n",
        "user_similarity_df = pd.DataFrame(user_similarity, index=matrix.index, columns=matrix.index)\n"
      ],
      "metadata": {
        "id": "MIz8MYZdVbyS"
      },
      "execution_count": 33,
      "outputs": []
    },
    {
      "cell_type": "markdown",
      "source": [
        "Fungsi Prediksi"
      ],
      "metadata": {
        "id": "Il5PaC4DWa13"
      }
    },
    {
      "cell_type": "code",
      "source": [
        "# Fungsi untuk menghitung prediksi rating\n",
        "def predict_ratings_all_users(matrix, user_similarity_df):\n",
        "    recommendations = {}\n",
        "    for user in matrix.index:\n",
        "        user_ratings = matrix.loc[user]\n",
        "        sim_scores = user_similarity_df.loc[user]\n",
        "\n",
        "        # Hanya hitung untuk film yang belum diberi rating\n",
        "        unrated_films = user_ratings[user_ratings == 0].index\n",
        "        predicted_ratings = {}\n",
        "\n",
        "        for film in unrated_films:\n",
        "            # Ambil rating semua pengguna untuk film ini\n",
        "            film_ratings = matrix[film]\n",
        "            numerator = np.dot(sim_scores, film_ratings)\n",
        "            denominator = np.abs(sim_scores).sum()\n",
        "            predicted_ratings[film] = numerator / denominator if denominator != 0 else 0\n",
        "\n",
        "        recommendations[user] = predicted_ratings\n",
        "    return recommendations\n"
      ],
      "metadata": {
        "id": "CsUhCxCEVn-E"
      },
      "execution_count": 34,
      "outputs": []
    },
    {
      "cell_type": "markdown",
      "source": [
        "Fungsi untuk menghitung NDCG"
      ],
      "metadata": {
        "id": "2aQXNBaAWb8V"
      }
    },
    {
      "cell_type": "code",
      "source": [
        "# Fungsi untuk menghitung NDCG@top_n\n",
        "def calculate_ndcg_top_n(user, recommendations, matrix, top_n=10):\n",
        "    actual_ratings = matrix.loc[user]  # Rating sebenarnya\n",
        "    pred_ratings = recommendations[user]  # Rating prediksi\n",
        "\n",
        "    # Urutkan berdasarkan prediksi (ambil top-n)\n",
        "    sorted_pred = sorted(pred_ratings.items(), key=lambda x: x[1], reverse=True)[:top_n]\n",
        "    sorted_actual = sorted(actual_ratings.items(), key=lambda x: x[1], reverse=True)[:top_n]\n",
        "\n",
        "    # DCG untuk top-n\n",
        "    dcg = 0\n",
        "    for i, (film, pred) in enumerate(sorted_pred):\n",
        "        relevance = actual_ratings.get(film, 0)\n",
        "        dcg += relevance / np.log2(i + 2)  # log2(i + 1) + 1 to avoid division by zero\n",
        "\n",
        "    # IDCG (ideal DCG) untuk top-n\n",
        "    idcg = 0\n",
        "    for i, (film, actual) in enumerate(sorted_actual):\n",
        "        relevance = actual_ratings.get(film, 0)\n",
        "        idcg += relevance / np.log2(i + 2)\n",
        "\n",
        "    ndcg = dcg / idcg if idcg > 0 else 0\n",
        "    return ndcg"
      ],
      "metadata": {
        "id": "mYrPmnTaVJNd"
      },
      "execution_count": 35,
      "outputs": []
    },
    {
      "cell_type": "markdown",
      "source": [
        "Memperoleh semua rekomendasi"
      ],
      "metadata": {
        "id": "7qalmOftWcot"
      }
    },
    {
      "cell_type": "code",
      "source": [
        "# Menghitung rekomendasi untuk semua pengguna\n",
        "all_recommendations = predict_ratings_all_users(matrix, user_similarity_df)"
      ],
      "metadata": {
        "id": "6eGhYiCxWTTl"
      },
      "execution_count": 36,
      "outputs": []
    },
    {
      "cell_type": "markdown",
      "source": [
        "Menghitung NDCG"
      ],
      "metadata": {
        "id": "0_u0BrE1Wc_z"
      }
    },
    {
      "cell_type": "code",
      "source": [
        "# Menghitung NDCG@top_n untuk semua pengguna\n",
        "top_n = 10\n",
        "ndcg_scores_top_n = {}\n",
        "for user in matrix.index:\n",
        "    ndcg_scores_top_n[user] = calculate_ndcg_top_n(user, all_recommendations, matrix, top_n=top_n)\n",
        "\n",
        "# Menyimpan hasil rekomendasi dan NDCG@top_n ke file .npy\n",
        "np.save(\"recommendations_tanpa_svd.npy\", all_recommendations)\n",
        "np.save(\"ndcg_scores_tanpa_svd.npy\", ndcg_scores_top_n)"
      ],
      "metadata": {
        "id": "MHhVAf4SWXIn"
      },
      "execution_count": 37,
      "outputs": []
    },
    {
      "cell_type": "markdown",
      "metadata": {
        "id": "XctzCfzbYCBK"
      },
      "source": [
        "## Evaluasi dan Visualisasi"
      ]
    },
    {
      "cell_type": "markdown",
      "source": [
        "Menampilkan hasil perbandingan NDCG dengan menggunakan SVD dan tanpa menggunakan SVD"
      ],
      "metadata": {
        "id": "-GyT7cJ9gfw9"
      }
    },
    {
      "cell_type": "code",
      "source": [
        "import matplotlib.pyplot as plt\n",
        "import numpy as np\n",
        "\n",
        "# Load NDCG scores\n",
        "ndcg_scores = np.load('ndcg_scores.npy', allow_pickle=True).item()\n",
        "ndcg_scores_top_n = np.load('ndcg_scores_tanpa_svd.npy', allow_pickle=True).item()\n",
        "\n",
        "# Extract NDCG values\n",
        "ndcg_values = list(ndcg_scores.values())\n",
        "ndcg_top_n_values = list(ndcg_scores_top_n.values())\n",
        "\n",
        "# Create the plot\n",
        "plt.figure(figsize=(10, 6))\n",
        "plt.plot(range(len(ndcg_values)), ndcg_values, label='Dengan SVD')\n",
        "plt.plot(range(len(ndcg_top_n_values)), ndcg_top_n_values, label='Tanpa SVD')\n",
        "plt.xlabel('User')\n",
        "plt.ylabel('NDCG')\n",
        "plt.title('Perbandingan NDCG dengan dan tanpa SVD')\n",
        "plt.legend()\n",
        "plt.grid(True)\n",
        "plt.show()"
      ],
      "metadata": {
        "colab": {
          "base_uri": "https://localhost:8080/",
          "height": 564
        },
        "id": "Ldb0Gp-bYp7-",
        "outputId": "423d59b1-13b0-4365-dd60-e1658da4bc73"
      },
      "execution_count": 38,
      "outputs": [
        {
          "output_type": "display_data",
          "data": {
            "text/plain": [
              "<Figure size 1000x600 with 1 Axes>"
            ],
            "image/png": "[encoded data removed]"
          },
          "metadata": {}
        }
      ]
    },
    {
      "cell_type": "markdown",
      "source": [
        "## Inference"
      ],
      "metadata": {
        "id": "8DbfEwvvm5U4"
      }
    },
    {
      "cell_type": "markdown",
      "source": [
        "Membuat dataframe list film"
      ],
      "metadata": {
        "id": "fpIObP7WgpoV"
      }
    },
    {
      "cell_type": "code",
      "source": [
        "df_list_film = pd.read_csv(file_path_list_film)"
      ],
      "metadata": {
        "id": "19kojBIeb96t"
      },
      "execution_count": 40,
      "outputs": []
    },
    {
      "cell_type": "markdown",
      "source": [
        "menampilkan list film"
      ],
      "metadata": {
        "id": "le2_SzdkgtMW"
      }
    },
    {
      "cell_type": "code",
      "source": [
        "df_list_film"
      ],
      "metadata": {
        "colab": {
          "base_uri": "https://localhost:8080/",
          "height": 423
        },
        "id": "8-EnhnlRcC5y",
        "outputId": "4fb48eae-b770-4ad8-8a4a-132e27d68ebc"
      },
      "execution_count": 41,
      "outputs": [
        {
          "output_type": "execute_result",
          "data": {
            "text/plain": [
              "       Movie_ID  Year                                               Name\n",
              "0             1  2003                                    Dinosaur Planet\n",
              "1             2  2004                         Isle of Man TT 2004 Review\n",
              "2             3  1997                                          Character\n",
              "3             4  1994                       Paula Abdul's Get Up & Dance\n",
              "4             5  2004                           The Rise and Fall of ECW\n",
              "...         ...   ...                                                ...\n",
              "17765     17766  2002  Where the Wild Things Are and Other Maurice Se...\n",
              "17766     17767  2004                  Fidel Castro: American Experience\n",
              "17767     17768  2000                                              Epoch\n",
              "17768     17769  2003                                        The Company\n",
              "17769     17770  2003                                       Alien Hunter\n",
              "\n",
              "[17770 rows x 3 columns]"
            ],
            "text/html": [
              "\n",
              "  <div id=\"df-9ed24d49-d9f0-40f6-81e1-baa020877558\" class=\"colab-df-container\">\n",
              "    <div>\n",
              "<style scoped>\n",
              "    .dataframe tbody tr th:only-of-type {\n",
              "        vertical-align: middle;\n",
              "    }\n",
              "\n",
              "    .dataframe tbody tr th {\n",
              "        vertical-align: top;\n",
              "    }\n",
              "\n",
              "    .dataframe thead th {\n",
              "        text-align: right;\n",
              "    }\n",
              "</style>\n",
              "<table border=\"1\" class=\"dataframe\">\n",
              "  <thead>\n",
              "    <tr style=\"text-align: right;\">\n",
              "      <th></th>\n",
              "      <th>Movie_ID</th>\n",
              "      <th>Year</th>\n",
              "      <th>Name</th>\n",
              "    </tr>\n",
              "  </thead>\n",
              "  <tbody>\n",
              "    <tr>\n",
              "      <th>0</th>\n",
              "      <td>1</td>\n",
              "      <td>2003</td>\n",
              "      <td>Dinosaur Planet</td>\n",
              "    </tr>\n",
              "    <tr>\n",
              "      <th>1</th>\n",
              "      <td>2</td>\n",
              "      <td>2004</td>\n",
              "      <td>Isle of Man TT 2004 Review</td>\n",
              "    </tr>\n",
              "    <tr>\n",
              "      <th>2</th>\n",
              "      <td>3</td>\n",
              "      <td>1997</td>\n",
              "      <td>Character</td>\n",
              "    </tr>\n",
              "    <tr>\n",
              "      <th>3</th>\n",
              "      <td>4</td>\n",
              "      <td>1994</td>\n",
              "      <td>Paula Abdul's Get Up &amp; Dance</td>\n",
              "    </tr>\n",
              "    <tr>\n",
              "      <th>4</th>\n",
              "      <td>5</td>\n",
              "      <td>2004</td>\n",
              "      <td>The Rise and Fall of ECW</td>\n",
              "    </tr>\n",
              "    <tr>\n",
              "      <th>...</th>\n",
              "      <td>...</td>\n",
              "      <td>...</td>\n",
              "      <td>...</td>\n",
              "    </tr>\n",
              "    <tr>\n",
              "      <th>17765</th>\n",
              "      <td>17766</td>\n",
              "      <td>2002</td>\n",
              "      <td>Where the Wild Things Are and Other Maurice Se...</td>\n",
              "    </tr>\n",
              "    <tr>\n",
              "      <th>17766</th>\n",
              "      <td>17767</td>\n",
              "      <td>2004</td>\n",
              "      <td>Fidel Castro: American Experience</td>\n",
              "    </tr>\n",
              "    <tr>\n",
              "      <th>17767</th>\n",
              "      <td>17768</td>\n",
              "      <td>2000</td>\n",
              "      <td>Epoch</td>\n",
              "    </tr>\n",
              "    <tr>\n",
              "      <th>17768</th>\n",
              "      <td>17769</td>\n",
              "      <td>2003</td>\n",
              "      <td>The Company</td>\n",
              "    </tr>\n",
              "    <tr>\n",
              "      <th>17769</th>\n",
              "      <td>17770</td>\n",
              "      <td>2003</td>\n",
              "      <td>Alien Hunter</td>\n",
              "    </tr>\n",
              "  </tbody>\n",
              "</table>\n",
              "<p>17770 rows × 3 columns</p>\n",
              "</div>\n",
              "    <div class=\"colab-df-buttons\">\n",
              "\n",
              "  <div class=\"colab-df-container\">\n",
              "    <button class=\"colab-df-convert\" onclick=\"convertToInteractive('df-9ed24d49-d9f0-40f6-81e1-baa020877558')\"\n",
              "            title=\"Convert this dataframe to an interactive table.\"\n",
              "            style=\"display:none;\">\n",
              "\n",
              "  <svg xmlns=\"http://www.w3.org/2000/svg\" height=\"24px\" viewBox=\"0 -960 960 960\">\n",
              "    <path d=\"M120-120v-720h720v720H120Zm60-500h600v-160H180v160Zm220 220h160v-160H400v160Zm0 220h160v-160H400v160ZM180-400h160v-160H180v160Zm440 0h160v-160H620v160ZM180-180h160v-160H180v160Zm440 0h160v-160H620v160Z\"/>\n",
              "  </svg>\n",
              "    </button>\n",
              "\n",
              "  <style>\n",
              "    .colab-df-container {\n",
              "      display:flex;\n",
              "      gap: 12px;\n",
              "    }\n",
              "\n",
              "    .colab-df-convert {\n",
              "      background-color: #E8F0FE;\n",
              "      border: none;\n",
              "      border-radius: 50%;\n",
              "      cursor: pointer;\n",
              "      display: none;\n",
              "      fill: #1967D2;\n",
              "      height: 32px;\n",
              "      padding: 0 0 0 0;\n",
              "      width: 32px;\n",
              "    }\n",
              "\n",
              "    .colab-df-convert:hover {\n",
              "      background-color: #E2EBFA;\n",
              "      box-shadow: 0px 1px 2px rgba(60, 64, 67, 0.3), 0px 1px 3px 1px rgba(60, 64, 67, 0.15);\n",
              "      fill: #174EA6;\n",
              "    }\n",
              "\n",
              "    .colab-df-buttons div {\n",
              "      margin-bottom: 4px;\n",
              "    }\n",
              "\n",
              "    [theme=dark] .colab-df-convert {\n",
              "      background-color: #3B4455;\n",
              "      fill: #D2E3FC;\n",
              "    }\n",
              "\n",
              "    [theme=dark] .colab-df-convert:hover {\n",
              "      background-color: #434B5C;\n",
              "      box-shadow: 0px 1px 3px 1px rgba(0, 0, 0, 0.15);\n",
              "      filter: drop-shadow(0px 1px 2px rgba(0, 0, 0, 0.3));\n",
              "      fill: #FFFFFF;\n",
              "    }\n",
              "  </style>\n",
              "\n",
              "    <script>\n",
              "      const buttonEl =\n",
              "        document.querySelector('#df-9ed24d49-d9f0-40f6-81e1-baa020877558 button.colab-df-convert');\n",
              "      buttonEl.style.display =\n",
              "        google.colab.kernel.accessAllowed ? 'block' : 'none';\n",
              "\n",
              "      async function convertToInteractive(key) {\n",
              "        const element = document.querySelector('#df-9ed24d49-d9f0-40f6-81e1-baa020877558');\n",
              "        const dataTable =\n",
              "          await google.colab.kernel.invokeFunction('convertToInteractive',\n",
              "                                                    [key], {});\n",
              "        if (!dataTable) return;\n",
              "\n",
              "        const docLinkHtml = 'Like what you see? Visit the ' +\n",
              "          '<a target=\"_blank\" href=https://colab.research.google.com/notebooks/data_table.ipynb>data table notebook</a>'\n",
              "          + ' to learn more about interactive tables.';\n",
              "        element.innerHTML = '';\n",
              "        dataTable['output_type'] = 'display_data';\n",
              "        await google.colab.output.renderOutput(dataTable, element);\n",
              "        const docLink = document.createElement('div');\n",
              "        docLink.innerHTML = docLinkHtml;\n",
              "        element.appendChild(docLink);\n",
              "      }\n",
              "    </script>\n",
              "  </div>\n",
              "\n",
              "\n",
              "<div id=\"df-62a60aba-aa10-4a19-829e-805081002f86\">\n",
              "  <button class=\"colab-df-quickchart\" onclick=\"quickchart('df-62a60aba-aa10-4a19-829e-805081002f86')\"\n",
              "            title=\"Suggest charts\"\n",
              "            style=\"display:none;\">\n",
              "\n",
              "<svg xmlns=\"http://www.w3.org/2000/svg\" height=\"24px\"viewBox=\"0 0 24 24\"\n",
              "     width=\"24px\">\n",
              "    <g>\n",
              "        <path d=\"M19 3H5c-1.1 0-2 .9-2 2v14c0 1.1.9 2 2 2h14c1.1 0 2-.9 2-2V5c0-1.1-.9-2-2-2zM9 17H7v-7h2v7zm4 0h-2V7h2v10zm4 0h-2v-4h2v4z\"/>\n",
              "    </g>\n",
              "</svg>\n",
              "  </button>\n",
              "\n",
              "<style>\n",
              "  .colab-df-quickchart {\n",
              "      --bg-color: #E8F0FE;\n",
              "      --fill-color: #1967D2;\n",
              "      --hover-bg-color: #E2EBFA;\n",
              "      --hover-fill-color: #174EA6;\n",
              "      --disabled-fill-color: #AAA;\n",
              "      --disabled-bg-color: #DDD;\n",
              "  }\n",
              "\n",
              "  [theme=dark] .colab-df-quickchart {\n",
              "      --bg-color: #3B4455;\n",
              "      --fill-color: #D2E3FC;\n",
              "      --hover-bg-color: #434B5C;\n",
              "      --hover-fill-color: #FFFFFF;\n",
              "      --disabled-bg-color: #3B4455;\n",
              "      --disabled-fill-color: #666;\n",
              "  }\n",
              "\n",
              "  .colab-df-quickchart {\n",
              "    background-color: var(--bg-color);\n",
              "    border: none;\n",
              "    border-radius: 50%;\n",
              "    cursor: pointer;\n",
              "    display: none;\n",
              "    fill: var(--fill-color);\n",
              "    height: 32px;\n",
              "    padding: 0;\n",
              "    width: 32px;\n",
              "  }\n",
              "\n",
              "  .colab-df-quickchart:hover {\n",
              "    background-color: var(--hover-bg-color);\n",
              "    box-shadow: 0 1px 2px rgba(60, 64, 67, 0.3), 0 1px 3px 1px rgba(60, 64, 67, 0.15);\n",
              "    fill: var(--button-hover-fill-color);\n",
              "  }\n",
              "\n",
              "  .colab-df-quickchart-complete:disabled,\n",
              "  .colab-df-quickchart-complete:disabled:hover {\n",
              "    background-color: var(--disabled-bg-color);\n",
              "    fill: var(--disabled-fill-color);\n",
              "    box-shadow: none;\n",
              "  }\n",
              "\n",
              "  .colab-df-spinner {\n",
              "    border: 2px solid var(--fill-color);\n",
              "    border-color: transparent;\n",
              "    border-bottom-color: var(--fill-color);\n",
              "    animation:\n",
              "      spin 1s steps(1) infinite;\n",
              "  }\n",
              "\n",
              "  @keyframes spin {\n",
              "    0% {\n",
              "      border-color: transparent;\n",
              "      border-bottom-color: var(--fill-color);\n",
              "      border-left-color: var(--fill-color);\n",
              "    }\n",
              "    20% {\n",
              "      border-color: transparent;\n",
              "      border-left-color: var(--fill-color);\n",
              "      border-top-color: var(--fill-color);\n",
              "    }\n",
              "    30% {\n",
              "      border-color: transparent;\n",
              "      border-left-color: var(--fill-color);\n",
              "      border-top-color: var(--fill-color);\n",
              "      border-right-color: var(--fill-color);\n",
              "    }\n",
              "    40% {\n",
              "      border-color: transparent;\n",
              "      border-right-color: var(--fill-color);\n",
              "      border-top-color: var(--fill-color);\n",
              "    }\n",
              "    60% {\n",
              "      border-color: transparent;\n",
              "      border-right-color: var(--fill-color);\n",
              "    }\n",
              "    80% {\n",
              "      border-color: transparent;\n",
              "      border-right-color: var(--fill-color);\n",
              "      border-bottom-color: var(--fill-color);\n",
              "    }\n",
              "    90% {\n",
              "      border-color: transparent;\n",
              "      border-bottom-color: var(--fill-color);\n",
              "    }\n",
              "  }\n",
              "</style>\n",
              "\n",
              "  <script>\n",
              "    async function quickchart(key) {\n",
              "      const quickchartButtonEl =\n",
              "        document.querySelector('#' + key + ' button');\n",
              "      quickchartButtonEl.disabled = true;  // To prevent multiple clicks.\n",
              "      quickchartButtonEl.classList.add('colab-df-spinner');\n",
              "      try {\n",
              "        const charts = await google.colab.kernel.invokeFunction(\n",
              "            'suggestCharts', [key], {});\n",
              "      } catch (error) {\n",
              "        console.error('Error during call to suggestCharts:', error);\n",
              "      }\n",
              "      quickchartButtonEl.classList.remove('colab-df-spinner');\n",
              "      quickchartButtonEl.classList.add('colab-df-quickchart-complete');\n",
              "    }\n",
              "    (() => {\n",
              "      let quickchartButtonEl =\n",
              "        document.querySelector('#df-62a60aba-aa10-4a19-829e-805081002f86 button');\n",
              "      quickchartButtonEl.style.display =\n",
              "        google.colab.kernel.accessAllowed ? 'block' : 'none';\n",
              "    })();\n",
              "  </script>\n",
              "</div>\n",
              "\n",
              "  <div id=\"id_431c04f0-6dee-433a-8623-6cf43ff9dc01\">\n",
              "    <style>\n",
              "      .colab-df-generate {\n",
              "        background-color: #E8F0FE;\n",
              "        border: none;\n",
              "        border-radius: 50%;\n",
              "        cursor: pointer;\n",
              "        display: none;\n",
              "        fill: #1967D2;\n",
              "        height: 32px;\n",
              "        padding: 0 0 0 0;\n",
              "        width: 32px;\n",
              "      }\n",
              "\n",
              "      .colab-df-generate:hover {\n",
              "        background-color: #E2EBFA;\n",
              "        box-shadow: 0px 1px 2px rgba(60, 64, 67, 0.3), 0px 1px 3px 1px rgba(60, 64, 67, 0.15);\n",
              "        fill: #174EA6;\n",
              "      }\n",
              "\n",
              "      [theme=dark] .colab-df-generate {\n",
              "        background-color: #3B4455;\n",
              "        fill: #D2E3FC;\n",
              "      }\n",
              "\n",
              "      [theme=dark] .colab-df-generate:hover {\n",
              "        background-color: #434B5C;\n",
              "        box-shadow: 0px 1px 3px 1px rgba(0, 0, 0, 0.15);\n",
              "        filter: drop-shadow(0px 1px 2px rgba(0, 0, 0, 0.3));\n",
              "        fill: #FFFFFF;\n",
              "      }\n",
              "    </style>\n",
              "    <button class=\"colab-df-generate\" onclick=\"generateWithVariable('df_list_film')\"\n",
              "            title=\"Generate code using this dataframe.\"\n",
              "            style=\"display:none;\">\n",
              "\n",
              "  <svg xmlns=\"http://www.w3.org/2000/svg\" height=\"24px\"viewBox=\"0 0 24 24\"\n",
              "       width=\"24px\">\n",
              "    <path d=\"M7,19H8.4L18.45,9,17,7.55,7,17.6ZM5,21V16.75L18.45,3.32a2,2,0,0,1,2.83,0l1.4,1.43a1.91,1.91,0,0,1,.58,1.4,1.91,1.91,0,0,1-.58,1.4L9.25,21ZM18.45,9,17,7.55Zm-12,3A5.31,5.31,0,0,0,4.9,8.1,5.31,5.31,0,0,0,1,6.5,5.31,5.31,0,0,0,4.9,4.9,5.31,5.31,0,0,0,6.5,1,5.31,5.31,0,0,0,8.1,4.9,5.31,5.31,0,0,0,12,6.5,5.46,5.46,0,0,0,6.5,12Z\"/>\n",
              "  </svg>\n",
              "    </button>\n",
              "    <script>\n",
              "      (() => {\n",
              "      const buttonEl =\n",
              "        document.querySelector('#id_431c04f0-6dee-433a-8623-6cf43ff9dc01 button.colab-df-generate');\n",
              "      buttonEl.style.display =\n",
              "        google.colab.kernel.accessAllowed ? 'block' : 'none';\n",
              "\n",
              "      buttonEl.onclick = () => {\n",
              "        google.colab.notebook.generateWithVariable('df_list_film');\n",
              "      }\n",
              "      })();\n",
              "    </script>\n",
              "  </div>\n",
              "\n",
              "    </div>\n",
              "  </div>\n"
            ],
            "application/vnd.google.colaboratory.intrinsic+json": {
              "type": "dataframe",
              "variable_name": "df_list_film",
              "summary": "{\n  \"name\": \"df_list_film\",\n  \"rows\": 17770,\n  \"fields\": [\n    {\n      \"column\": \"Movie_ID\",\n      \"properties\": {\n        \"dtype\": \"number\",\n        \"std\": 5129,\n        \"min\": 1,\n        \"max\": 17770,\n        \"num_unique_values\": 17770,\n        \"samples\": [\n          1087,\n          12404,\n          10831\n        ],\n        \"semantic_type\": \"\",\n        \"description\": \"\"\n      }\n    },\n    {\n      \"column\": \"Year\",\n      \"properties\": {\n        \"dtype\": \"number\",\n        \"std\": 16,\n        \"min\": 1915,\n        \"max\": 2005,\n        \"num_unique_values\": 91,\n        \"samples\": [\n          1978,\n          1995,\n          1948\n        ],\n        \"semantic_type\": \"\",\n        \"description\": \"\"\n      }\n    },\n    {\n      \"column\": \"Name\",\n      \"properties\": {\n        \"dtype\": \"string\",\n        \"num_unique_values\": 17297,\n        \"samples\": [\n          \"The Pretender: Season 2\",\n          \"Lean on Me\",\n          \"Auntie Mame\"\n        ],\n        \"semantic_type\": \"\",\n        \"description\": \"\"\n      }\n    }\n  ]\n}"
            }
          },
          "metadata": {},
          "execution_count": 41
        }
      ]
    },
    {
      "cell_type": "markdown",
      "source": [
        "Membandingkan perbandingan hasil rekomendasi dari yang menggunakan SVD dan tanpa menggunakan SVD"
      ],
      "metadata": {
        "id": "p-YTfVOdgvTw"
      }
    },
    {
      "cell_type": "code",
      "source": [
        "# Memuat data yang diperlukan\n",
        "recommendations = np.load('recommendations.npy', allow_pickle=True).item()  # Memuat rekomendasi dengan SVD\n",
        "all_recommendations = np.load('recommendations_tanpa_svd.npy', allow_pickle=True).item()  # Memuat rekomendasi tanpa SVD\n",
        "matrix = pd.read_csv(file_path_list_rating).pivot_table(index='User_ID', columns='Movie_ID', values='Rating', fill_value=0)  # Membuat matriks user-item\n",
        "movies = pd.read_csv(file_path_list_film)  # Memuat daftar film\n",
        "\n",
        "# Fungsi untuk mendapatkan judul film berdasarkan ID film\n",
        "def get_movie_titles(movie_ids, movies_df):\n",
        "    return movies_df[movies_df['Movie_ID'].isin(movie_ids)]['Name'].tolist()\n",
        "\n",
        "# Input User ID\n",
        "user_id_input = 1333  # ID pengguna yang ingin dicek rekomendasinya\n",
        "\n",
        "# Mencari indeks pengguna pada matriks\n",
        "try:\n",
        "    user_index = matrix.index.get_loc(user_id_input)  # Mendapatkan indeks pengguna dari User_ID\n",
        "except KeyError:\n",
        "    print(f\"User ID {user_id_input} tidak ditemukan.\")  # Pesan jika User_ID tidak ditemukan\n",
        "    exit()\n",
        "\n",
        "# Mendapatkan rekomendasi untuk pengguna yang ditentukan (dengan dan tanpa SVD)\n",
        "top_n = 10  # Jumlah rekomendasi teratas yang diinginkan\n",
        "\n",
        "# Rekomendasi dengan SVD\n",
        "if user_index in recommendations:\n",
        "    recommended_items_svd = recommendations[user_index]['recommended_items']  # Film yang direkomendasikan\n",
        "    movie_titles_svd = get_movie_titles(recommended_items_svd, movies)  # Mendapatkan judul film dari ID\n",
        "    print(f\"\\nRekomendasi dengan SVD untuk User ID {user_id_input}:\")\n",
        "    for i, title in enumerate(movie_titles_svd):\n",
        "        print(f\"{i + 1}. {title}\")  # Menampilkan rekomendasi satu per satu\n",
        "else:\n",
        "    print(f\"Tidak ada rekomendasi yang ditemukan untuk User ID {user_id_input} dengan SVD.\")\n",
        "\n",
        "# Rekomendasi tanpa SVD\n",
        "if user_id_input in all_recommendations:\n",
        "    # Mengurutkan rekomendasi berdasarkan rating prediksi (top-N)\n",
        "    recommended_items_no_svd = sorted(all_recommendations[user_id_input].items(), key=lambda x: x[1], reverse=True)[:top_n]\n",
        "    movie_ids_no_svd = [movie_id for movie_id, _ in recommended_items_no_svd]  # Mengambil ID film\n",
        "    movie_titles_no_svd = get_movie_titles(movie_ids_no_svd, movies)  # Mendapatkan judul film dari ID\n",
        "\n",
        "    print(f\"\\nRekomendasi tanpa SVD untuk User ID {user_id_input}:\")\n",
        "    for i, title in enumerate(movie_titles_no_svd):\n",
        "        print(f\"{i + 1}. {title}\")  # Menampilkan rekomendasi satu per satu\n",
        "else:\n",
        "    print(f\"Tidak ada rekomendasi yang ditemukan untuk User ID {user_id_input} tanpa SVD.\")"
      ],
      "metadata": {
        "id": "ue5esMSSm8GQ",
        "colab": {
          "base_uri": "https://localhost:8080/"
        },
        "outputId": "4dc97faf-09e4-4274-ca73-ae4eeac38a78"
      },
      "execution_count": 42,
      "outputs": [
        {
          "output_type": "stream",
          "name": "stdout",
          "text": [
            "\n",
            "Rekomendasi dengan SVD untuk User ID 1333:\n",
            "1. We're Not Married\n",
            "2. Charlotte's Web\n",
            "3. First Knight\n",
            "4. The Scarlet and the Black\n",
            "5. Domestic Disturbance\n",
            "6. All in the Family: Season 3\n",
            "7. The Three Stooges Go Around the World in a Daze\n",
            "8. Hammer House of Horror\n",
            "9. Queen of the Stardust Ballroom\n",
            "10. The Twilight Zone: Vol. 19\n",
            "\n",
            "Rekomendasi tanpa SVD untuk User ID 1333:\n",
            "1. National Lampoon's Vacation\n",
            "2. Aliens: Collector's Edition\n",
            "3. Beverly Hills Cop\n",
            "4. The Bourne Supremacy\n",
            "5. Planes\n",
            "6. When Harry Met Sally\n",
            "7. Braveheart\n",
            "8. The Godfather\n",
            "9. The Matrix: Reloaded\n",
            "10. Signs\n"
          ]
        }
      ]
    }
  ]
}